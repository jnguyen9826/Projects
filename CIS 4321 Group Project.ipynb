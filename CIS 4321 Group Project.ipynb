{
 "cells": [
  {
   "cell_type": "markdown",
   "metadata": {},
   "source": [
    "# CIS 4321 Project Template\n",
    "# Dr. Mohammad Salehan"
   ]
  },
  {
   "cell_type": "markdown",
   "metadata": {},
   "source": [
    "This notebook explains the steps needed to be taken to complete this project. Please carefully answer to all questions raised in this template. The notebook you submit should be self-explanatory which means that you  need to clearly explain what each peice of code is suposed to do. All the cells containing code must include comments that explain what the code is supposed to do.<br>\n",
    "To create a cell that contains comments, click on the cell, then from Cell manu select CellType -> MarkDown."
   ]
  },
  {
   "cell_type": "markdown",
   "metadata": {},
   "source": [
    "Group Members: Gregory Gonzalez & Jackson Nguyen"
   ]
  },
  {
   "cell_type": "markdown",
   "metadata": {},
   "source": [
    "## 1. Problem definition\n",
    "Start with explaining the problem and how you plan the address it using machine learning."
   ]
  },
  {
   "cell_type": "markdown",
   "metadata": {},
   "source": [
    "The problem that we would like to approach within this project is how to price your Air Bnb within the market based on predictors so you do not make the mistake of overlisting or underlisting your home. By using regression and clustering, we will analyze the data that we have retreived and predict the best possible predictors you should use in order to calculate yourlisting price."
   ]
  },
  {
   "cell_type": "markdown",
   "metadata": {},
   "source": [
    "## 2. Data description\n",
    "Explain the source of data, what each record represents, number of records, and detailed descriptions of all variables including at least a one-sentence description and data type. Specify which variables will be used in analysis."
   ]
  },
  {
   "cell_type": "markdown",
   "metadata": {},
   "source": [
    "We collected our source of data from Kaggle, which had a number of Airbnb datasets.  The dataset that we ended up choosing to analyze was of Airbnbs in Washington.  Most of the data comes from the city of Seattle, but we decided to incorporate the rest of the cities within our analysis.  There are 7497 records.\n",
    "\n",
    "Variables\n",
    "\n",
    "index: identifier of row group\n",
    "room_id: distinct id for room listing\n",
    "host_id: distinct id for host providing the listing\n",
    "room_type: type of room that the host is listing (entire home, private room)\n",
    "city: city in which the listing is located\n",
    "reviews: the number of reviews the listing contains from customers\n",
    "overall_satisfaction: overall satisfaction rating on a scale from 0-5\n",
    "accommodates: the number of accommodates that can stay per listing\n",
    "bedrooms: the number of bedrooms the listing contains\n",
    "bathrooms: the number of bathrooms the listing contains\n",
    "price: the price of the listing per night\n",
    "last_modified: the time in which the listing was updated\n",
    "latitude: the latitude of the listing\n",
    "longitude: the longitude of the listing\n",
    "name: the name of the listing\n",
    "currency: the specified currency for renting out the listing\n",
    "rate_type: the rate at which you pay for the rented out listing\n",
    "\n",
    "For our analysis, the variables that will be used include: room_type, city, reviews, overall_satisfaction, accommodates, bedrooms, bathrooms, and price."
   ]
  },
  {
   "cell_type": "markdown",
   "metadata": {},
   "source": [
    "## 3. Method of analysis\n",
    "Explain the selected method (classification, regression, or clustering).\n",
    "<ul><li>Classification: identify the label (i.e., dependent variable) and all predictors.\n",
    "<li>Regression: identify the label (i.e., dependent variable) and all predictors.\n",
    "<li>Clustering: explain what kind of clusters you expect to find and how those clusters would help you solve the stated problem."
   ]
  },
  {
   "cell_type": "markdown",
   "metadata": {},
   "source": [
    "## 4. Loading data\n",
    "Load your dataset using a relative path. "
   ]
  },
  {
   "cell_type": "code",
   "execution_count": 1,
   "metadata": {},
   "outputs": [
    {
     "name": "stdout",
     "output_type": "stream",
     "text": [
      "Requirement already satisfied: seaborn in c:\\users\\jnguy\\anaconda3\\lib\\site-packages (0.10.1)\n",
      "Requirement already satisfied: matplotlib>=2.1.2 in c:\\users\\jnguy\\anaconda3\\lib\\site-packages (from seaborn) (3.2.2)\n",
      "Requirement already satisfied: scipy>=1.0.1 in c:\\users\\jnguy\\anaconda3\\lib\\site-packages (from seaborn) (1.5.3)\n",
      "Requirement already satisfied: pandas>=0.22.0 in c:\\users\\jnguy\\anaconda3\\lib\\site-packages (from seaborn) (1.1.3)\n",
      "Requirement already satisfied: numpy>=1.13.3 in c:\\users\\jnguy\\anaconda3\\lib\\site-packages (from seaborn) (1.18.5)\n",
      "Requirement already satisfied: cycler>=0.10 in c:\\users\\jnguy\\anaconda3\\lib\\site-packages (from matplotlib>=2.1.2->seaborn) (0.10.0)\n",
      "Requirement already satisfied: kiwisolver>=1.0.1 in c:\\users\\jnguy\\anaconda3\\lib\\site-packages (from matplotlib>=2.1.2->seaborn) (1.2.0)\n",
      "Requirement already satisfied: pyparsing!=2.0.4,!=2.1.2,!=2.1.6,>=2.0.1 in c:\\users\\jnguy\\anaconda3\\lib\\site-packages (from matplotlib>=2.1.2->seaborn) (2.4.7)\n",
      "Requirement already satisfied: python-dateutil>=2.1 in c:\\users\\jnguy\\anaconda3\\lib\\site-packages (from matplotlib>=2.1.2->seaborn) (2.8.1)\n",
      "Requirement already satisfied: pytz>=2017.2 in c:\\users\\jnguy\\anaconda3\\lib\\site-packages (from pandas>=0.22.0->seaborn) (2020.1)\n",
      "Requirement already satisfied: six in c:\\users\\jnguy\\anaconda3\\lib\\site-packages (from cycler>=0.10->matplotlib>=2.1.2->seaborn) (1.15.0)\n"
     ]
    }
   ],
   "source": [
    "%matplotlib inline\n",
    "!pip install seaborn\n",
    "\n",
    "from pathlib import Path\n",
    "\n",
    "import pandas as pd\n",
    "from pandas.plotting import parallel_coordinates\n",
    "\n",
    "from sklearn.model_selection import train_test_split\n",
    "from sklearn.linear_model import LinearRegression, Lasso, Ridge, LassoCV, BayesianRidge\n",
    "from sklearn.cluster import KMeans\n",
    "from sklearn import preprocessing\n",
    "from sklearn.metrics import pairwise\n",
    "from sklearn import preprocessing\n",
    "from sklearn.model_selection import train_test_split\n",
    "from sklearn.metrics import accuracy_score\n",
    "from sklearn.neighbors import NearestNeighbors, KNeighborsClassifier\n",
    "from sklearn.tree import DecisionTreeClassifier, DecisionTreeRegressor\n",
    "from sklearn.ensemble import RandomForestClassifier, GradientBoostingClassifier\n",
    "from sklearn.model_selection import train_test_split, cross_val_score, GridSearchCV\n",
    "from sklearn.cluster import KMeans\n",
    "\n",
    "import statsmodels.formula.api as sm\n",
    "\n",
    "import matplotlib.pylab as plt\n",
    "\n",
    "from dmba import plotDecisionTree, classificationSummary, regressionSummary\n",
    "from dmba import regressionSummary, exhaustive_search\n",
    "from dmba import backward_elimination, forward_selection, stepwise_selection\n",
    "from dmba import adjusted_r2_score, AIC_score, BIC_score\n",
    "\n",
    "from scipy import stats\n",
    "from scipy.cluster.hierarchy import dendrogram, linkage, fcluster\n",
    "\n",
    "import numpy as np\n",
    "import csv\n",
    "import seaborn as sns\n"
   ]
  },
  {
   "cell_type": "markdown",
   "metadata": {},
   "source": [
    "Here we are importing all the required packages in order to run our code for our analysis using multiple methods."
   ]
  },
  {
   "cell_type": "code",
   "execution_count": 2,
   "metadata": {},
   "outputs": [
    {
     "data": {
      "text/plain": [
       "(7497, 18)"
      ]
     },
     "execution_count": 2,
     "metadata": {},
     "output_type": "execute_result"
    }
   ],
   "source": [
    "df=pd.read_csv('seattle_airbnb.csv')\n",
    "df.shape #the original data rows and columns"
   ]
  },
  {
   "cell_type": "markdown",
   "metadata": {},
   "source": [
    "Within this section we are loading our data set for analysis."
   ]
  },
  {
   "cell_type": "code",
   "execution_count": 3,
   "metadata": {},
   "outputs": [
    {
     "data": {
      "text/plain": [
       "(18, 7)"
      ]
     },
     "execution_count": 3,
     "metadata": {},
     "output_type": "execute_result"
    }
   ],
   "source": [
    "cluster_df = pd.read_excel('city_averages.xlsx')\n",
    "cluster_df.shape"
   ]
  },
  {
   "cell_type": "markdown",
   "metadata": {},
   "source": [
    "Within this dataset we are loading our calculated averages of the variables we are implementing within our analysis by city."
   ]
  },
  {
   "cell_type": "code",
   "execution_count": 4,
   "metadata": {},
   "outputs": [],
   "source": [
    "cluster_df.set_index('city', inplace=True)"
   ]
  },
  {
   "cell_type": "markdown",
   "metadata": {},
   "source": [
    "This dataset we cluster by city, thus we set our index as 'city'."
   ]
  },
  {
   "cell_type": "markdown",
   "metadata": {},
   "source": [
    "## 5. Descriptive statistics\n",
    "Run descriptive statistics. Explain how the output will guide your analysis."
   ]
  },
  {
   "cell_type": "code",
   "execution_count": 5,
   "metadata": {},
   "outputs": [
    {
     "data": {
      "text/plain": [
       "Index(['index', 'room_id', 'host_id', 'room_type', 'city', 'reviews',\n",
       "       'overall_satisfaction', 'accommodates', 'bedrooms', 'bathrooms',\n",
       "       'price', 'last_modified', 'latitude', 'longitude', 'location', 'name',\n",
       "       'currency', 'rate_type'],\n",
       "      dtype='object')"
      ]
     },
     "execution_count": 5,
     "metadata": {},
     "output_type": "execute_result"
    }
   ],
   "source": [
    "df.columns"
   ]
  },
  {
   "cell_type": "markdown",
   "metadata": {},
   "source": [
    "Displays the columns."
   ]
  },
  {
   "cell_type": "code",
   "execution_count": 6,
   "metadata": {},
   "outputs": [
    {
     "name": "stdout",
     "output_type": "stream",
     "text": [
      "<class 'pandas.core.frame.DataFrame'>\n",
      "RangeIndex: 7497 entries, 0 to 7496\n",
      "Data columns (total 18 columns):\n",
      " #   Column                Non-Null Count  Dtype  \n",
      "---  ------                --------------  -----  \n",
      " 0   index                 7497 non-null   int64  \n",
      " 1   room_id               7497 non-null   int64  \n",
      " 2   host_id               7497 non-null   int64  \n",
      " 3   room_type             7497 non-null   object \n",
      " 4   city                  7497 non-null   object \n",
      " 5   reviews               7497 non-null   int64  \n",
      " 6   overall_satisfaction  6092 non-null   float64\n",
      " 7   accommodates          7497 non-null   int64  \n",
      " 8   bedrooms              7497 non-null   int64  \n",
      " 9   bathrooms             7495 non-null   float64\n",
      " 10  price                 7497 non-null   int64  \n",
      " 11  last_modified         7497 non-null   object \n",
      " 12  latitude              7497 non-null   float64\n",
      " 13  longitude             7497 non-null   float64\n",
      " 14  location              7497 non-null   object \n",
      " 15  name                  7497 non-null   object \n",
      " 16  currency              7497 non-null   object \n",
      " 17  rate_type             7497 non-null   object \n",
      "dtypes: float64(4), int64(7), object(7)\n",
      "memory usage: 1.0+ MB\n"
     ]
    }
   ],
   "source": [
    "df.info()"
   ]
  },
  {
   "cell_type": "markdown",
   "metadata": {},
   "source": [
    "Displays information about the dataset.  Returns the data type and how many entries their are for each column."
   ]
  },
  {
   "cell_type": "code",
   "execution_count": 7,
   "metadata": {
    "scrolled": true
   },
   "outputs": [
    {
     "data": {
      "text/html": [
       "<div>\n",
       "<style scoped>\n",
       "    .dataframe tbody tr th:only-of-type {\n",
       "        vertical-align: middle;\n",
       "    }\n",
       "\n",
       "    .dataframe tbody tr th {\n",
       "        vertical-align: top;\n",
       "    }\n",
       "\n",
       "    .dataframe thead th {\n",
       "        text-align: right;\n",
       "    }\n",
       "</style>\n",
       "<table border=\"1\" class=\"dataframe\">\n",
       "  <thead>\n",
       "    <tr style=\"text-align: right;\">\n",
       "      <th></th>\n",
       "      <th>index</th>\n",
       "      <th>room_id</th>\n",
       "      <th>host_id</th>\n",
       "      <th>room_type</th>\n",
       "      <th>city</th>\n",
       "      <th>reviews</th>\n",
       "      <th>overall_satisfaction</th>\n",
       "      <th>accommodates</th>\n",
       "      <th>bedrooms</th>\n",
       "      <th>bathrooms</th>\n",
       "      <th>price</th>\n",
       "      <th>last_modified</th>\n",
       "      <th>latitude</th>\n",
       "      <th>longitude</th>\n",
       "      <th>location</th>\n",
       "      <th>name</th>\n",
       "      <th>currency</th>\n",
       "      <th>rate_type</th>\n",
       "    </tr>\n",
       "  </thead>\n",
       "  <tbody>\n",
       "    <tr>\n",
       "      <th>0</th>\n",
       "      <td>0</td>\n",
       "      <td>2318</td>\n",
       "      <td>2536</td>\n",
       "      <td>Entire home/apt</td>\n",
       "      <td>Seattle, WA, United States</td>\n",
       "      <td>21</td>\n",
       "      <td>5.0</td>\n",
       "      <td>8</td>\n",
       "      <td>4</td>\n",
       "      <td>2.5</td>\n",
       "      <td>250</td>\n",
       "      <td>46:14.7</td>\n",
       "      <td>47.610819</td>\n",
       "      <td>-122.290816</td>\n",
       "      <td>0101000020E6100000D449B6BA9C925EC0416326512FCE...</td>\n",
       "      <td>Casa Madrona - Urban Oasis, 1 block from the P...</td>\n",
       "      <td>USD</td>\n",
       "      <td>nightly</td>\n",
       "    </tr>\n",
       "    <tr>\n",
       "      <th>1</th>\n",
       "      <td>1</td>\n",
       "      <td>3335</td>\n",
       "      <td>4193</td>\n",
       "      <td>Entire home/apt</td>\n",
       "      <td>Seattle, WA, United States</td>\n",
       "      <td>1</td>\n",
       "      <td>NaN</td>\n",
       "      <td>4</td>\n",
       "      <td>2</td>\n",
       "      <td>1.0</td>\n",
       "      <td>100</td>\n",
       "      <td>08:45.3</td>\n",
       "      <td>47.529846</td>\n",
       "      <td>-122.275840</td>\n",
       "      <td>0101000020E61000006FBBD05CA7915EC04DF564FED1C3...</td>\n",
       "      <td>Sweet Seattle Urban Homestead 2 Bdr</td>\n",
       "      <td>USD</td>\n",
       "      <td>nightly</td>\n",
       "    </tr>\n",
       "    <tr>\n",
       "      <th>2</th>\n",
       "      <td>2</td>\n",
       "      <td>4291</td>\n",
       "      <td>35749</td>\n",
       "      <td>Private room</td>\n",
       "      <td>Seattle, WA, United States</td>\n",
       "      <td>63</td>\n",
       "      <td>4.5</td>\n",
       "      <td>2</td>\n",
       "      <td>1</td>\n",
       "      <td>1.0</td>\n",
       "      <td>82</td>\n",
       "      <td>04:19.9</td>\n",
       "      <td>47.687801</td>\n",
       "      <td>-122.313427</td>\n",
       "      <td>0101000020E6100000BDAB1E300F945EC0FB93F8DC09D8...</td>\n",
       "      <td>Sunrise in Seattle Master Suite</td>\n",
       "      <td>USD</td>\n",
       "      <td>nightly</td>\n",
       "    </tr>\n",
       "    <tr>\n",
       "      <th>3</th>\n",
       "      <td>3</td>\n",
       "      <td>5682</td>\n",
       "      <td>8993</td>\n",
       "      <td>Entire home/apt</td>\n",
       "      <td>Seattle, WA, United States</td>\n",
       "      <td>462</td>\n",
       "      <td>5.0</td>\n",
       "      <td>2</td>\n",
       "      <td>0</td>\n",
       "      <td>1.0</td>\n",
       "      <td>49</td>\n",
       "      <td>11:25.5</td>\n",
       "      <td>47.523980</td>\n",
       "      <td>-122.359891</td>\n",
       "      <td>0101000020E6100000FCC7427408975EC009E1D1C611C3...</td>\n",
       "      <td>Cozy Studio, min. to downtown -WiFi</td>\n",
       "      <td>USD</td>\n",
       "      <td>nightly</td>\n",
       "    </tr>\n",
       "    <tr>\n",
       "      <th>4</th>\n",
       "      <td>4</td>\n",
       "      <td>6606</td>\n",
       "      <td>14942</td>\n",
       "      <td>Entire home/apt</td>\n",
       "      <td>Seattle, WA, United States</td>\n",
       "      <td>134</td>\n",
       "      <td>4.5</td>\n",
       "      <td>2</td>\n",
       "      <td>1</td>\n",
       "      <td>1.0</td>\n",
       "      <td>90</td>\n",
       "      <td>12:38.4</td>\n",
       "      <td>47.654109</td>\n",
       "      <td>-122.337605</td>\n",
       "      <td>0101000020E6100000D47D00529B955EC07782FDD7B9D3...</td>\n",
       "      <td>Fab, private seattle urban cottage!</td>\n",
       "      <td>USD</td>\n",
       "      <td>nightly</td>\n",
       "    </tr>\n",
       "  </tbody>\n",
       "</table>\n",
       "</div>"
      ],
      "text/plain": [
       "   index  room_id  host_id        room_type                        city  \\\n",
       "0      0     2318     2536  Entire home/apt  Seattle, WA, United States   \n",
       "1      1     3335     4193  Entire home/apt  Seattle, WA, United States   \n",
       "2      2     4291    35749     Private room  Seattle, WA, United States   \n",
       "3      3     5682     8993  Entire home/apt  Seattle, WA, United States   \n",
       "4      4     6606    14942  Entire home/apt  Seattle, WA, United States   \n",
       "\n",
       "   reviews  overall_satisfaction  accommodates  bedrooms  bathrooms  price  \\\n",
       "0       21                   5.0             8         4        2.5    250   \n",
       "1        1                   NaN             4         2        1.0    100   \n",
       "2       63                   4.5             2         1        1.0     82   \n",
       "3      462                   5.0             2         0        1.0     49   \n",
       "4      134                   4.5             2         1        1.0     90   \n",
       "\n",
       "  last_modified   latitude   longitude  \\\n",
       "0       46:14.7  47.610819 -122.290816   \n",
       "1       08:45.3  47.529846 -122.275840   \n",
       "2       04:19.9  47.687801 -122.313427   \n",
       "3       11:25.5  47.523980 -122.359891   \n",
       "4       12:38.4  47.654109 -122.337605   \n",
       "\n",
       "                                            location  \\\n",
       "0  0101000020E6100000D449B6BA9C925EC0416326512FCE...   \n",
       "1  0101000020E61000006FBBD05CA7915EC04DF564FED1C3...   \n",
       "2  0101000020E6100000BDAB1E300F945EC0FB93F8DC09D8...   \n",
       "3  0101000020E6100000FCC7427408975EC009E1D1C611C3...   \n",
       "4  0101000020E6100000D47D00529B955EC07782FDD7B9D3...   \n",
       "\n",
       "                                                name currency rate_type  \n",
       "0  Casa Madrona - Urban Oasis, 1 block from the P...      USD   nightly  \n",
       "1                Sweet Seattle Urban Homestead 2 Bdr      USD   nightly  \n",
       "2                    Sunrise in Seattle Master Suite      USD   nightly  \n",
       "3                Cozy Studio, min. to downtown -WiFi      USD   nightly  \n",
       "4                Fab, private seattle urban cottage!      USD   nightly  "
      ]
     },
     "execution_count": 7,
     "metadata": {},
     "output_type": "execute_result"
    }
   ],
   "source": [
    "df.head()"
   ]
  },
  {
   "cell_type": "markdown",
   "metadata": {},
   "source": [
    "Returns the first five rows represent within the data."
   ]
  },
  {
   "cell_type": "code",
   "execution_count": 8,
   "metadata": {},
   "outputs": [
    {
     "data": {
      "text/plain": [
       "index                   3.945760e+03\n",
       "room_id                 1.769433e+07\n",
       "host_id                 5.103014e+07\n",
       "reviews                 4.807123e+01\n",
       "overall_satisfaction    4.841349e+00\n",
       "accommodates            3.684274e+00\n",
       "bedrooms                1.390289e+00\n",
       "bathrooms               1.309807e+00\n",
       "price                   1.130595e+02\n",
       "latitude                4.762445e+01\n",
       "longitude              -1.223181e+02\n",
       "dtype: float64"
      ]
     },
     "execution_count": 8,
     "metadata": {},
     "output_type": "execute_result"
    }
   ],
   "source": [
    "df.mean()"
   ]
  },
  {
   "cell_type": "markdown",
   "metadata": {},
   "source": [
    "Displays the average of each column."
   ]
  },
  {
   "cell_type": "code",
   "execution_count": 9,
   "metadata": {},
   "outputs": [
    {
     "data": {
      "text/html": [
       "<div>\n",
       "<style scoped>\n",
       "    .dataframe tbody tr th:only-of-type {\n",
       "        vertical-align: middle;\n",
       "    }\n",
       "\n",
       "    .dataframe tbody tr th {\n",
       "        vertical-align: top;\n",
       "    }\n",
       "\n",
       "    .dataframe thead th {\n",
       "        text-align: right;\n",
       "    }\n",
       "</style>\n",
       "<table border=\"1\" class=\"dataframe\">\n",
       "  <thead>\n",
       "    <tr style=\"text-align: right;\">\n",
       "      <th></th>\n",
       "      <th>index</th>\n",
       "      <th>room_id</th>\n",
       "      <th>host_id</th>\n",
       "      <th>reviews</th>\n",
       "      <th>overall_satisfaction</th>\n",
       "      <th>accommodates</th>\n",
       "      <th>bedrooms</th>\n",
       "      <th>bathrooms</th>\n",
       "      <th>price</th>\n",
       "      <th>latitude</th>\n",
       "      <th>longitude</th>\n",
       "    </tr>\n",
       "  </thead>\n",
       "  <tbody>\n",
       "    <tr>\n",
       "      <th>count</th>\n",
       "      <td>7497.000000</td>\n",
       "      <td>7.497000e+03</td>\n",
       "      <td>7.497000e+03</td>\n",
       "      <td>7497.000000</td>\n",
       "      <td>6092.000000</td>\n",
       "      <td>7497.000000</td>\n",
       "      <td>7497.000000</td>\n",
       "      <td>7495.000000</td>\n",
       "      <td>7497.000000</td>\n",
       "      <td>7497.000000</td>\n",
       "      <td>7497.000000</td>\n",
       "    </tr>\n",
       "    <tr>\n",
       "      <th>mean</th>\n",
       "      <td>3945.759504</td>\n",
       "      <td>1.769433e+07</td>\n",
       "      <td>5.103014e+07</td>\n",
       "      <td>48.071228</td>\n",
       "      <td>4.841349</td>\n",
       "      <td>3.684274</td>\n",
       "      <td>1.390289</td>\n",
       "      <td>1.309807</td>\n",
       "      <td>113.059490</td>\n",
       "      <td>47.624449</td>\n",
       "      <td>-122.318082</td>\n",
       "    </tr>\n",
       "    <tr>\n",
       "      <th>std</th>\n",
       "      <td>2288.671972</td>\n",
       "      <td>8.720156e+06</td>\n",
       "      <td>5.794042e+07</td>\n",
       "      <td>66.042522</td>\n",
       "      <td>0.281281</td>\n",
       "      <td>2.340016</td>\n",
       "      <td>1.011804</td>\n",
       "      <td>0.643388</td>\n",
       "      <td>122.690403</td>\n",
       "      <td>0.046457</td>\n",
       "      <td>0.058157</td>\n",
       "    </tr>\n",
       "    <tr>\n",
       "      <th>min</th>\n",
       "      <td>0.000000</td>\n",
       "      <td>2.318000e+03</td>\n",
       "      <td>2.536000e+03</td>\n",
       "      <td>0.000000</td>\n",
       "      <td>2.500000</td>\n",
       "      <td>1.000000</td>\n",
       "      <td>0.000000</td>\n",
       "      <td>0.000000</td>\n",
       "      <td>15.000000</td>\n",
       "      <td>47.508078</td>\n",
       "      <td>-122.420918</td>\n",
       "    </tr>\n",
       "    <tr>\n",
       "      <th>25%</th>\n",
       "      <td>1966.000000</td>\n",
       "      <td>1.119134e+07</td>\n",
       "      <td>8.242272e+06</td>\n",
       "      <td>5.000000</td>\n",
       "      <td>4.500000</td>\n",
       "      <td>2.000000</td>\n",
       "      <td>1.000000</td>\n",
       "      <td>1.000000</td>\n",
       "      <td>65.000000</td>\n",
       "      <td>47.603920</td>\n",
       "      <td>-122.350787</td>\n",
       "    </tr>\n",
       "    <tr>\n",
       "      <th>50%</th>\n",
       "      <td>3937.000000</td>\n",
       "      <td>1.951711e+07</td>\n",
       "      <td>2.696758e+07</td>\n",
       "      <td>22.000000</td>\n",
       "      <td>5.000000</td>\n",
       "      <td>3.000000</td>\n",
       "      <td>1.000000</td>\n",
       "      <td>1.000000</td>\n",
       "      <td>88.000000</td>\n",
       "      <td>47.620174</td>\n",
       "      <td>-122.328634</td>\n",
       "    </tr>\n",
       "    <tr>\n",
       "      <th>75%</th>\n",
       "      <td>5892.000000</td>\n",
       "      <td>2.471911e+07</td>\n",
       "      <td>7.736253e+07</td>\n",
       "      <td>64.000000</td>\n",
       "      <td>5.000000</td>\n",
       "      <td>4.000000</td>\n",
       "      <td>2.000000</td>\n",
       "      <td>1.500000</td>\n",
       "      <td>125.000000</td>\n",
       "      <td>47.660276</td>\n",
       "      <td>-122.303590</td>\n",
       "    </tr>\n",
       "    <tr>\n",
       "      <th>max</th>\n",
       "      <td>7974.000000</td>\n",
       "      <td>3.099842e+07</td>\n",
       "      <td>2.314354e+08</td>\n",
       "      <td>687.000000</td>\n",
       "      <td>5.000000</td>\n",
       "      <td>28.000000</td>\n",
       "      <td>8.000000</td>\n",
       "      <td>8.000000</td>\n",
       "      <td>5900.000000</td>\n",
       "      <td>47.723050</td>\n",
       "      <td>-122.114887</td>\n",
       "    </tr>\n",
       "  </tbody>\n",
       "</table>\n",
       "</div>"
      ],
      "text/plain": [
       "             index       room_id       host_id      reviews  \\\n",
       "count  7497.000000  7.497000e+03  7.497000e+03  7497.000000   \n",
       "mean   3945.759504  1.769433e+07  5.103014e+07    48.071228   \n",
       "std    2288.671972  8.720156e+06  5.794042e+07    66.042522   \n",
       "min       0.000000  2.318000e+03  2.536000e+03     0.000000   \n",
       "25%    1966.000000  1.119134e+07  8.242272e+06     5.000000   \n",
       "50%    3937.000000  1.951711e+07  2.696758e+07    22.000000   \n",
       "75%    5892.000000  2.471911e+07  7.736253e+07    64.000000   \n",
       "max    7974.000000  3.099842e+07  2.314354e+08   687.000000   \n",
       "\n",
       "       overall_satisfaction  accommodates     bedrooms    bathrooms  \\\n",
       "count           6092.000000   7497.000000  7497.000000  7495.000000   \n",
       "mean               4.841349      3.684274     1.390289     1.309807   \n",
       "std                0.281281      2.340016     1.011804     0.643388   \n",
       "min                2.500000      1.000000     0.000000     0.000000   \n",
       "25%                4.500000      2.000000     1.000000     1.000000   \n",
       "50%                5.000000      3.000000     1.000000     1.000000   \n",
       "75%                5.000000      4.000000     2.000000     1.500000   \n",
       "max                5.000000     28.000000     8.000000     8.000000   \n",
       "\n",
       "             price     latitude    longitude  \n",
       "count  7497.000000  7497.000000  7497.000000  \n",
       "mean    113.059490    47.624449  -122.318082  \n",
       "std     122.690403     0.046457     0.058157  \n",
       "min      15.000000    47.508078  -122.420918  \n",
       "25%      65.000000    47.603920  -122.350787  \n",
       "50%      88.000000    47.620174  -122.328634  \n",
       "75%     125.000000    47.660276  -122.303590  \n",
       "max    5900.000000    47.723050  -122.114887  "
      ]
     },
     "execution_count": 9,
     "metadata": {},
     "output_type": "execute_result"
    }
   ],
   "source": [
    "df.describe()"
   ]
  },
  {
   "cell_type": "markdown",
   "metadata": {},
   "source": [
    "Returns statistical details which include the count, mean standard deviation, minimum, and maximum."
   ]
  },
  {
   "cell_type": "code",
   "execution_count": 10,
   "metadata": {},
   "outputs": [
    {
     "data": {
      "text/plain": [
       "count    7497.000000\n",
       "mean      113.059490\n",
       "std       122.690403\n",
       "min        15.000000\n",
       "25%        65.000000\n",
       "50%        88.000000\n",
       "75%       125.000000\n",
       "max      5900.000000\n",
       "Name: price, dtype: float64"
      ]
     },
     "execution_count": 10,
     "metadata": {},
     "output_type": "execute_result"
    }
   ],
   "source": [
    "price_des = df['price'].describe()\n",
    "price_des "
   ]
  },
  {
   "cell_type": "markdown",
   "metadata": {},
   "source": [
    "This allows us to know if the data is skewed or not, based on the data we are given, the max price will skew the data to the right."
   ]
  },
  {
   "cell_type": "code",
   "execution_count": 11,
   "metadata": {},
   "outputs": [
    {
     "data": {
      "text/plain": [
       "Index(['reviews', 'overall_satisfaction', 'accommodates', 'bedrooms',\n",
       "       'bathrooms', 'price'],\n",
       "      dtype='object')"
      ]
     },
     "execution_count": 11,
     "metadata": {},
     "output_type": "execute_result"
    }
   ],
   "source": [
    "cluster_df.columns"
   ]
  },
  {
   "cell_type": "code",
   "execution_count": 12,
   "metadata": {},
   "outputs": [
    {
     "name": "stdout",
     "output_type": "stream",
     "text": [
      "<class 'pandas.core.frame.DataFrame'>\n",
      "Index: 18 entries, Ballard to Yarrow Point\n",
      "Data columns (total 6 columns):\n",
      " #   Column                Non-Null Count  Dtype  \n",
      "---  ------                --------------  -----  \n",
      " 0   reviews               18 non-null     float64\n",
      " 1   overall_satisfaction  18 non-null     float64\n",
      " 2   accommodates          18 non-null     float64\n",
      " 3   bedrooms              18 non-null     float64\n",
      " 4   bathrooms             18 non-null     float64\n",
      " 5   price                 18 non-null     float64\n",
      "dtypes: float64(6)\n",
      "memory usage: 1008.0+ bytes\n"
     ]
    }
   ],
   "source": [
    "cluster_df.info()"
   ]
  },
  {
   "cell_type": "code",
   "execution_count": 13,
   "metadata": {},
   "outputs": [
    {
     "data": {
      "text/html": [
       "<div>\n",
       "<style scoped>\n",
       "    .dataframe tbody tr th:only-of-type {\n",
       "        vertical-align: middle;\n",
       "    }\n",
       "\n",
       "    .dataframe tbody tr th {\n",
       "        vertical-align: top;\n",
       "    }\n",
       "\n",
       "    .dataframe thead th {\n",
       "        text-align: right;\n",
       "    }\n",
       "</style>\n",
       "<table border=\"1\" class=\"dataframe\">\n",
       "  <thead>\n",
       "    <tr style=\"text-align: right;\">\n",
       "      <th></th>\n",
       "      <th>reviews</th>\n",
       "      <th>overall_satisfaction</th>\n",
       "      <th>accommodates</th>\n",
       "      <th>bedrooms</th>\n",
       "      <th>bathrooms</th>\n",
       "      <th>price</th>\n",
       "    </tr>\n",
       "    <tr>\n",
       "      <th>city</th>\n",
       "      <th></th>\n",
       "      <th></th>\n",
       "      <th></th>\n",
       "      <th></th>\n",
       "      <th></th>\n",
       "      <th></th>\n",
       "    </tr>\n",
       "  </thead>\n",
       "  <tbody>\n",
       "    <tr>\n",
       "      <th>Ballard</th>\n",
       "      <td>236.00000</td>\n",
       "      <td>5.00000</td>\n",
       "      <td>5.00000</td>\n",
       "      <td>1.00000</td>\n",
       "      <td>1.00000</td>\n",
       "      <td>75.0000</td>\n",
       "    </tr>\n",
       "    <tr>\n",
       "      <th>Bellevue</th>\n",
       "      <td>21.68944</td>\n",
       "      <td>4.78631</td>\n",
       "      <td>3.26397</td>\n",
       "      <td>1.53106</td>\n",
       "      <td>1.28106</td>\n",
       "      <td>102.5559</td>\n",
       "    </tr>\n",
       "    <tr>\n",
       "      <th>Bothell</th>\n",
       "      <td>0.00000</td>\n",
       "      <td>0.00000</td>\n",
       "      <td>5.50000</td>\n",
       "      <td>3.00000</td>\n",
       "      <td>2.50000</td>\n",
       "      <td>399.5000</td>\n",
       "    </tr>\n",
       "    <tr>\n",
       "      <th>Capitol Hill</th>\n",
       "      <td>52.00000</td>\n",
       "      <td>5.00000</td>\n",
       "      <td>4.00000</td>\n",
       "      <td>2.00000</td>\n",
       "      <td>1.00000</td>\n",
       "      <td>160.0000</td>\n",
       "    </tr>\n",
       "    <tr>\n",
       "      <th>Clyde Hill</th>\n",
       "      <td>89.50000</td>\n",
       "      <td>5.00000</td>\n",
       "      <td>2.00000</td>\n",
       "      <td>0.00000</td>\n",
       "      <td>1.00000</td>\n",
       "      <td>94.5000</td>\n",
       "    </tr>\n",
       "  </tbody>\n",
       "</table>\n",
       "</div>"
      ],
      "text/plain": [
       "                reviews  overall_satisfaction  accommodates  bedrooms  \\\n",
       "city                                                                    \n",
       "Ballard       236.00000               5.00000       5.00000   1.00000   \n",
       "Bellevue       21.68944               4.78631       3.26397   1.53106   \n",
       "Bothell         0.00000               0.00000       5.50000   3.00000   \n",
       "Capitol Hill   52.00000               5.00000       4.00000   2.00000   \n",
       "Clyde Hill     89.50000               5.00000       2.00000   0.00000   \n",
       "\n",
       "              bathrooms     price  \n",
       "city                               \n",
       "Ballard         1.00000   75.0000  \n",
       "Bellevue        1.28106  102.5559  \n",
       "Bothell         2.50000  399.5000  \n",
       "Capitol Hill    1.00000  160.0000  \n",
       "Clyde Hill      1.00000   94.5000  "
      ]
     },
     "execution_count": 13,
     "metadata": {},
     "output_type": "execute_result"
    }
   ],
   "source": [
    "cluster_df.head()"
   ]
  },
  {
   "cell_type": "code",
   "execution_count": 14,
   "metadata": {},
   "outputs": [
    {
     "data": {
      "text/plain": [
       "reviews                  40.507336\n",
       "overall_satisfaction      4.094063\n",
       "accommodates              4.191032\n",
       "bedrooms                  1.829806\n",
       "bathrooms                 1.470464\n",
       "price                   154.115555\n",
       "dtype: float64"
      ]
     },
     "execution_count": 14,
     "metadata": {},
     "output_type": "execute_result"
    }
   ],
   "source": [
    "cluster_df.mean()"
   ]
  },
  {
   "cell_type": "code",
   "execution_count": 15,
   "metadata": {},
   "outputs": [
    {
     "data": {
      "text/html": [
       "<div>\n",
       "<style scoped>\n",
       "    .dataframe tbody tr th:only-of-type {\n",
       "        vertical-align: middle;\n",
       "    }\n",
       "\n",
       "    .dataframe tbody tr th {\n",
       "        vertical-align: top;\n",
       "    }\n",
       "\n",
       "    .dataframe thead th {\n",
       "        text-align: right;\n",
       "    }\n",
       "</style>\n",
       "<table border=\"1\" class=\"dataframe\">\n",
       "  <thead>\n",
       "    <tr style=\"text-align: right;\">\n",
       "      <th></th>\n",
       "      <th>reviews</th>\n",
       "      <th>overall_satisfaction</th>\n",
       "      <th>accommodates</th>\n",
       "      <th>bedrooms</th>\n",
       "      <th>bathrooms</th>\n",
       "      <th>price</th>\n",
       "    </tr>\n",
       "  </thead>\n",
       "  <tbody>\n",
       "    <tr>\n",
       "      <th>count</th>\n",
       "      <td>18.000000</td>\n",
       "      <td>18.000000</td>\n",
       "      <td>18.000000</td>\n",
       "      <td>18.000000</td>\n",
       "      <td>18.000000</td>\n",
       "      <td>18.000000</td>\n",
       "    </tr>\n",
       "    <tr>\n",
       "      <th>mean</th>\n",
       "      <td>40.507336</td>\n",
       "      <td>4.094063</td>\n",
       "      <td>4.191032</td>\n",
       "      <td>1.829806</td>\n",
       "      <td>1.470464</td>\n",
       "      <td>154.115555</td>\n",
       "    </tr>\n",
       "    <tr>\n",
       "      <th>std</th>\n",
       "      <td>55.425346</td>\n",
       "      <td>1.885907</td>\n",
       "      <td>1.820247</td>\n",
       "      <td>1.003417</td>\n",
       "      <td>0.572124</td>\n",
       "      <td>90.862772</td>\n",
       "    </tr>\n",
       "    <tr>\n",
       "      <th>min</th>\n",
       "      <td>0.000000</td>\n",
       "      <td>0.000000</td>\n",
       "      <td>2.000000</td>\n",
       "      <td>0.000000</td>\n",
       "      <td>1.000000</td>\n",
       "      <td>75.000000</td>\n",
       "    </tr>\n",
       "    <tr>\n",
       "      <th>25%</th>\n",
       "      <td>11.244898</td>\n",
       "      <td>4.789137</td>\n",
       "      <td>3.253493</td>\n",
       "      <td>1.331259</td>\n",
       "      <td>1.000000</td>\n",
       "      <td>100.638975</td>\n",
       "    </tr>\n",
       "    <tr>\n",
       "      <th>50%</th>\n",
       "      <td>21.714720</td>\n",
       "      <td>4.878008</td>\n",
       "      <td>3.856632</td>\n",
       "      <td>1.640530</td>\n",
       "      <td>1.321180</td>\n",
       "      <td>125.067500</td>\n",
       "    </tr>\n",
       "    <tr>\n",
       "      <th>75%</th>\n",
       "      <td>47.680363</td>\n",
       "      <td>5.000000</td>\n",
       "      <td>4.559796</td>\n",
       "      <td>2.000000</td>\n",
       "      <td>1.641474</td>\n",
       "      <td>157.500000</td>\n",
       "    </tr>\n",
       "    <tr>\n",
       "      <th>max</th>\n",
       "      <td>236.000000</td>\n",
       "      <td>5.000000</td>\n",
       "      <td>9.000000</td>\n",
       "      <td>4.000000</td>\n",
       "      <td>3.000000</td>\n",
       "      <td>399.500000</td>\n",
       "    </tr>\n",
       "  </tbody>\n",
       "</table>\n",
       "</div>"
      ],
      "text/plain": [
       "          reviews  overall_satisfaction  accommodates   bedrooms  bathrooms  \\\n",
       "count   18.000000             18.000000     18.000000  18.000000  18.000000   \n",
       "mean    40.507336              4.094063      4.191032   1.829806   1.470464   \n",
       "std     55.425346              1.885907      1.820247   1.003417   0.572124   \n",
       "min      0.000000              0.000000      2.000000   0.000000   1.000000   \n",
       "25%     11.244898              4.789137      3.253493   1.331259   1.000000   \n",
       "50%     21.714720              4.878008      3.856632   1.640530   1.321180   \n",
       "75%     47.680363              5.000000      4.559796   2.000000   1.641474   \n",
       "max    236.000000              5.000000      9.000000   4.000000   3.000000   \n",
       "\n",
       "            price  \n",
       "count   18.000000  \n",
       "mean   154.115555  \n",
       "std     90.862772  \n",
       "min     75.000000  \n",
       "25%    100.638975  \n",
       "50%    125.067500  \n",
       "75%    157.500000  \n",
       "max    399.500000  "
      ]
     },
     "execution_count": 15,
     "metadata": {},
     "output_type": "execute_result"
    }
   ],
   "source": [
    "cluster_df.describe()"
   ]
  },
  {
   "cell_type": "markdown",
   "metadata": {},
   "source": []
  },
  {
   "cell_type": "markdown",
   "metadata": {},
   "source": [
    "## 6. Missing values and outliers\n",
    "Explain the steps that you plan to take to handle missing values and any potential outliers. Run code that handles missing values and outliers."
   ]
  },
  {
   "cell_type": "code",
   "execution_count": 16,
   "metadata": {
    "scrolled": true
   },
   "outputs": [
    {
     "data": {
      "text/plain": [
       "index                      0\n",
       "room_id                    0\n",
       "host_id                    0\n",
       "room_type                  0\n",
       "city                       0\n",
       "reviews                    0\n",
       "overall_satisfaction    1405\n",
       "accommodates               0\n",
       "bedrooms                   0\n",
       "bathrooms                  2\n",
       "price                      0\n",
       "last_modified              0\n",
       "latitude                   0\n",
       "longitude                  0\n",
       "location                   0\n",
       "name                       0\n",
       "currency                   0\n",
       "rate_type                  0\n",
       "dtype: int64"
      ]
     },
     "execution_count": 16,
     "metadata": {},
     "output_type": "execute_result"
    }
   ],
   "source": [
    "df.isna().sum()"
   ]
  },
  {
   "cell_type": "markdown",
   "metadata": {},
   "source": [
    "Displays which columns contain missing values within our dataset."
   ]
  },
  {
   "cell_type": "code",
   "execution_count": 17,
   "metadata": {},
   "outputs": [
    {
     "data": {
      "text/plain": [
       "(6090, 18)"
      ]
     },
     "execution_count": 17,
     "metadata": {},
     "output_type": "execute_result"
    }
   ],
   "source": [
    "df2 = df.dropna()\n",
    "df2.shape  "
   ]
  },
  {
   "cell_type": "markdown",
   "metadata": {},
   "source": [
    "Drops the missing values wtihin our dataset."
   ]
  },
  {
   "cell_type": "code",
   "execution_count": 18,
   "metadata": {},
   "outputs": [],
   "source": [
    "df2_values = df2.drop(columns =['index', 'room_id', 'host_id', 'room_type', 'city', 'last_modified','latitude', 'longitude', 'location', 'name', 'currency', 'rate_type'], axis =1)\n",
    "##z = np.abs(stats.zscore(df2_values))\n",
    "##threshold = 3\n",
    "##print(np.where(z>3))"
   ]
  },
  {
   "cell_type": "markdown",
   "metadata": {},
   "source": [
    "Dropped missing values, we cannot do much about these values that are missing because they were never inputted so we cannot make up a value for them and potentially skew our data."
   ]
  },
  {
   "cell_type": "code",
   "execution_count": 19,
   "metadata": {},
   "outputs": [],
   "source": [
    "#z[5351]\n",
    "#df2_values.shape"
   ]
  },
  {
   "cell_type": "code",
   "execution_count": 20,
   "metadata": {},
   "outputs": [],
   "source": [
    "#df_outliers = df2_values[(z < 3).all(axis=1)]\n",
    "#df_outliers.shape"
   ]
  },
  {
   "cell_type": "code",
   "execution_count": 21,
   "metadata": {},
   "outputs": [
    {
     "data": {
      "text/plain": [
       "reviews                 0\n",
       "overall_satisfaction    0\n",
       "accommodates            0\n",
       "bedrooms                0\n",
       "bathrooms               0\n",
       "price                   0\n",
       "dtype: int64"
      ]
     },
     "execution_count": 21,
     "metadata": {},
     "output_type": "execute_result"
    }
   ],
   "source": [
    "cluster_df.isnull().sum()"
   ]
  },
  {
   "cell_type": "markdown",
   "metadata": {},
   "source": [
    "## 7. Data visualization\n",
    "Please see the project description for requirements."
   ]
  },
  {
   "cell_type": "code",
   "execution_count": 22,
   "metadata": {},
   "outputs": [
    {
     "data": {
      "text/plain": [
       "<matplotlib.axes._subplots.AxesSubplot at 0x1d2b0268430>"
      ]
     },
     "execution_count": 22,
     "metadata": {},
     "output_type": "execute_result"
    },
    {
     "data": {
      "image/png": "[encoded data removed]",
      "text/plain": [
       "<Figure size 432x288 with 1 Axes>"
      ]
     },
     "metadata": {
      "needs_background": "light"
     },
     "output_type": "display_data"
    }
   ],
   "source": [
    "df['price'].hist()"
   ]
  },
  {
   "cell_type": "markdown",
   "metadata": {},
   "source": [
    "The histogram here does not tell us much about the curve of the graph so we would like to plot the histogram again without the outliers."
   ]
  },
  {
   "cell_type": "code",
   "execution_count": 23,
   "metadata": {},
   "outputs": [
    {
     "data": {
      "text/plain": [
       "(array([ 518., 1319., 2062., 1252.,  543.,  568.,  335.,  269.]),\n",
       " array([ 15,  40,  65,  90, 115, 130, 155, 180, 205]),\n",
       " <a list of 8 Patch objects>)"
      ]
     },
     "execution_count": 23,
     "metadata": {},
     "output_type": "execute_result"
    },
    {
     "data": {
      "image/png": "[encoded data removed]",
      "text/plain": [
       "<Figure size 432x288 with 1 Axes>"
      ]
     },
     "metadata": {
      "needs_background": "light"
     },
     "output_type": "display_data"
    }
   ],
   "source": [
    "plt.hist(df['price'], bins = [15, 40, 65, 90, 115, 130, 155, 180, 205])\n"
   ]
  },
  {
   "cell_type": "markdown",
   "metadata": {},
   "source": [
    "75% of the data ies within the range of 15-125, so we wanted to show a histogram where the majority of the data is coming from and left out the outliers."
   ]
  },
  {
   "cell_type": "code",
   "execution_count": 24,
   "metadata": {},
   "outputs": [
    {
     "data": {
      "text/plain": [
       "<matplotlib.axes._subplots.AxesSubplot at 0x1d2b0a58760>"
      ]
     },
     "execution_count": 24,
     "metadata": {},
     "output_type": "execute_result"
    },
    {
     "data": {
      "image/png": "[encoded data removed]",
      "text/plain": [
       "<Figure size 432x288 with 1 Axes>"
      ]
     },
     "metadata": {
      "needs_background": "light"
     },
     "output_type": "display_data"
    }
   ],
   "source": [
    "df['bedrooms'].hist()"
   ]
  },
  {
   "cell_type": "markdown",
   "metadata": {},
   "source": [
    "Displays a histogram showing the distribution of bedrooms across the dataset."
   ]
  },
  {
   "cell_type": "code",
   "execution_count": 25,
   "metadata": {},
   "outputs": [
    {
     "data": {
      "text/plain": [
       "<matplotlib.axes._subplots.AxesSubplot at 0x1d2b0ae56a0>"
      ]
     },
     "execution_count": 25,
     "metadata": {},
     "output_type": "execute_result"
    },
    {
     "data": {
      "image/png": "[encoded data removed]",
      "text/plain": [
       "<Figure size 432x288 with 1 Axes>"
      ]
     },
     "metadata": {
      "needs_background": "light"
     },
     "output_type": "display_data"
    }
   ],
   "source": [
    "df['bathrooms'].hist()"
   ]
  },
  {
   "cell_type": "markdown",
   "metadata": {},
   "source": [
    "Displays a histogram showing the distribution of bathrooms across the dataset."
   ]
  },
  {
   "cell_type": "code",
   "execution_count": 26,
   "metadata": {},
   "outputs": [
    {
     "data": {
      "text/plain": [
       "<matplotlib.axes._subplots.AxesSubplot at 0x1d2b0b59ee0>"
      ]
     },
     "execution_count": 26,
     "metadata": {},
     "output_type": "execute_result"
    },
    {
     "data": {
      "image/png": "[encoded data removed]",
      "text/plain": [
       "<Figure size 432x288 with 1 Axes>"
      ]
     },
     "metadata": {
      "needs_background": "light"
     },
     "output_type": "display_data"
    }
   ],
   "source": [
    "df['reviews'].hist()"
   ]
  },
  {
   "cell_type": "markdown",
   "metadata": {},
   "source": [
    "Displays a histogram showing the distribution of reviews of customers across the dataset."
   ]
  },
  {
   "cell_type": "code",
   "execution_count": 27,
   "metadata": {},
   "outputs": [
    {
     "data": {
      "text/plain": [
       "<matplotlib.axes._subplots.AxesSubplot at 0x1d2b0bc27f0>"
      ]
     },
     "execution_count": 27,
     "metadata": {},
     "output_type": "execute_result"
    },
    {
     "data": {
      "image/png": "[encoded data removed]",
      "text/plain": [
       "<Figure size 432x288 with 1 Axes>"
      ]
     },
     "metadata": {
      "needs_background": "light"
     },
     "output_type": "display_data"
    }
   ],
   "source": [
    "df['overall_satisfaction'].hist()"
   ]
  },
  {
   "cell_type": "markdown",
   "metadata": {},
   "source": [
    "Displays a histogram showing the distribution of overall satisfaction of customers across the dataset."
   ]
  },
  {
   "cell_type": "code",
   "execution_count": 28,
   "metadata": {},
   "outputs": [
    {
     "data": {
      "text/plain": [
       "<matplotlib.axes._subplots.AxesSubplot at 0x1d2b0c27400>"
      ]
     },
     "execution_count": 28,
     "metadata": {},
     "output_type": "execute_result"
    },
    {
     "data": {
      "image/png": "[encoded data removed]",
      "text/plain": [
       "<Figure size 432x288 with 1 Axes>"
      ]
     },
     "metadata": {
      "needs_background": "light"
     },
     "output_type": "display_data"
    }
   ],
   "source": [
    "df['accommodates'].hist()"
   ]
  },
  {
   "cell_type": "markdown",
   "metadata": {},
   "source": [
    "Displays a histogram showing the distribution of accommodates across the data."
   ]
  },
  {
   "cell_type": "code",
   "execution_count": 29,
   "metadata": {},
   "outputs": [
    {
     "data": {
      "text/plain": [
       "<matplotlib.axes._subplots.AxesSubplot at 0x1d2b1c73880>"
      ]
     },
     "execution_count": 29,
     "metadata": {},
     "output_type": "execute_result"
    },
    {
     "data": {
      "image/png": "[encoded data removed]",
      "text/plain": [
       "<Figure size 432x288 with 1 Axes>"
      ]
     },
     "metadata": {
      "needs_background": "light"
     },
     "output_type": "display_data"
    }
   ],
   "source": [
    "df.groupby('room_type').size().plot(kind='bar')"
   ]
  },
  {
   "cell_type": "markdown",
   "metadata": {},
   "source": [
    "Displays a graphical representation of the frequency related to that of our categorical variable 'room_type'."
   ]
  },
  {
   "cell_type": "code",
   "execution_count": 30,
   "metadata": {},
   "outputs": [
    {
     "data": {
      "text/plain": [
       "<matplotlib.axes._subplots.AxesSubplot at 0x1d2b1cbb820>"
      ]
     },
     "execution_count": 30,
     "metadata": {},
     "output_type": "execute_result"
    },
    {
     "data": {
      "image/png": "[encoded data removed]",
      "text/plain": [
       "<Figure size 432x288 with 1 Axes>"
      ]
     },
     "metadata": {
      "needs_background": "light"
     },
     "output_type": "display_data"
    }
   ],
   "source": [
    "df.groupby('city').size().plot(kind='bar')"
   ]
  },
  {
   "cell_type": "markdown",
   "metadata": {},
   "source": [
    "Displays a graphical representation of the frequency related to that of our categorical variable 'city'."
   ]
  },
  {
   "cell_type": "markdown",
   "metadata": {},
   "source": []
  },
  {
   "cell_type": "code",
   "execution_count": 31,
   "metadata": {},
   "outputs": [
    {
     "data": {
      "text/plain": [
       "city\n",
       "Ballard, Seattle, WA, United States          75.000000\n",
       "Bellevue, WA, United States                 102.555901\n",
       "Bothell, WA, United States                  399.500000\n",
       "Capitol Hill, Seattle, WA, United States    160.000000\n",
       "Clyde Hill, WA, United States                94.500000\n",
       "Hunts Point, WA, United States              349.000000\n",
       "Kirkland, WA, United States                 125.135000\n",
       "Medina, WA, United States                   126.750000\n",
       "Mercer Island, WA, United States            260.540000\n",
       "Newcastle, WA, United States                108.081633\n",
       "Redmond, WA, United States                   84.636364\n",
       "Renton, WA, United States                    97.333333\n",
       "Seattle, WA, United States                  112.547839\n",
       "Tukwila, WA, United States                  150.000000\n",
       "Vashon, WA, United States                   125.000000\n",
       "Washington, WA, United States               129.000000\n",
       "West Seattle, WA, United States             100.000000\n",
       "Yarrow Point, WA, United States             174.500000\n",
       "Name: price, dtype: float64"
      ]
     },
     "execution_count": 31,
     "metadata": {},
     "output_type": "execute_result"
    }
   ],
   "source": [
    "grouped_by_city = df.groupby('city')\n",
    "grouped_by_city['price'].mean()\n",
    "#we can see which area within WA is priced"
   ]
  },
  {
   "cell_type": "markdown",
   "metadata": {},
   "source": [
    "Displays the average price of the listing based off of the city within Washington."
   ]
  },
  {
   "cell_type": "code",
   "execution_count": 32,
   "metadata": {},
   "outputs": [
    {
     "data": {
      "text/plain": [
       "accommodates\n",
       "1      54.573363\n",
       "2      79.095602\n",
       "3      87.962121\n",
       "4     112.199869\n",
       "5     129.383442\n",
       "6     162.628922\n",
       "7     176.687023\n",
       "8     255.184502\n",
       "9     225.066667\n",
       "10    337.632653\n",
       "11    174.461538\n",
       "12    319.849057\n",
       "13    298.400000\n",
       "14    344.083333\n",
       "15    735.000000\n",
       "16    395.655172\n",
       "20    155.333333\n",
       "23    234.000000\n",
       "25    204.000000\n",
       "28    371.000000\n",
       "Name: price, dtype: float64"
      ]
     },
     "execution_count": 32,
     "metadata": {},
     "output_type": "execute_result"
    }
   ],
   "source": [
    "grouped_by_accommodates = df.groupby('accommodates')\n",
    "grouped_by_accommodates['price'].mean() "
   ]
  },
  {
   "cell_type": "markdown",
   "metadata": {},
   "source": [
    "We can see the average price of the listing based off the number of accommodates."
   ]
  },
  {
   "cell_type": "code",
   "execution_count": 33,
   "metadata": {},
   "outputs": [
    {
     "data": {
      "text/plain": [
       "overall_satisfaction\n",
       "2.5     84.000000\n",
       "3.0    180.750000\n",
       "3.5    100.046512\n",
       "4.0     92.021277\n",
       "4.5     97.063957\n",
       "5.0    111.268969\n",
       "Name: price, dtype: float64"
      ]
     },
     "execution_count": 33,
     "metadata": {},
     "output_type": "execute_result"
    }
   ],
   "source": [
    "grouped_by_overall_satisfaction = df.groupby('overall_satisfaction')\n",
    "grouped_by_overall_satisfaction['price'].mean()"
   ]
  },
  {
   "cell_type": "markdown",
   "metadata": {},
   "source": [
    "We can see the average price of the listing based off of the overall satisfaction ratings.  However, we assume that many people do not leave feedback for their stay at an Airbnb, so these scores may not affect price as much"
   ]
  },
  {
   "cell_type": "code",
   "execution_count": 34,
   "metadata": {},
   "outputs": [
    {
     "data": {
      "text/plain": [
       "bedrooms\n",
       "0     82.288684\n",
       "1     81.477799\n",
       "2    134.902721\n",
       "3    216.349180\n",
       "4    280.469484\n",
       "5    331.472222\n",
       "6    558.800000\n",
       "7    435.777778\n",
       "8    794.666667\n",
       "Name: price, dtype: float64"
      ]
     },
     "execution_count": 34,
     "metadata": {},
     "output_type": "execute_result"
    }
   ],
   "source": [
    "grouped_by_bedrooms = df.groupby('bedrooms')\n",
    "grouped_by_bedrooms['price'].mean()"
   ]
  },
  {
   "cell_type": "markdown",
   "metadata": {},
   "source": [
    "Displays the average price of the listing based off the number of bedrooms."
   ]
  },
  {
   "cell_type": "code",
   "execution_count": 35,
   "metadata": {},
   "outputs": [
    {
     "data": {
      "text/plain": [
       "bathrooms\n",
       "0.0     136.900000\n",
       "0.5      69.642857\n",
       "1.0      89.921180\n",
       "1.5     112.838791\n",
       "2.0     156.274100\n",
       "2.5     220.138408\n",
       "3.0     245.909091\n",
       "3.5     235.846667\n",
       "4.0     390.323529\n",
       "4.5    1305.666667\n",
       "5.0     597.000000\n",
       "6.0    2325.000000\n",
       "8.0      38.000000\n",
       "Name: price, dtype: float64"
      ]
     },
     "execution_count": 35,
     "metadata": {},
     "output_type": "execute_result"
    }
   ],
   "source": [
    "grouped_by_bathrooms = df.groupby('bathrooms')\n",
    "grouped_by_bathrooms['price'].mean()"
   ]
  },
  {
   "cell_type": "markdown",
   "metadata": {},
   "source": [
    "Displays the average price of the listing based off the number of bathrooms."
   ]
  },
  {
   "cell_type": "markdown",
   "metadata": {},
   "source": [
    "## 8. Correlation analysis\n",
    "Generate a correlation matrix and interpret it. Is multicollinearity an issue?"
   ]
  },
  {
   "cell_type": "code",
   "execution_count": 36,
   "metadata": {},
   "outputs": [
    {
     "data": {
      "text/html": [
       "<div>\n",
       "<style scoped>\n",
       "    .dataframe tbody tr th:only-of-type {\n",
       "        vertical-align: middle;\n",
       "    }\n",
       "\n",
       "    .dataframe tbody tr th {\n",
       "        vertical-align: top;\n",
       "    }\n",
       "\n",
       "    .dataframe thead th {\n",
       "        text-align: right;\n",
       "    }\n",
       "</style>\n",
       "<table border=\"1\" class=\"dataframe\">\n",
       "  <thead>\n",
       "    <tr style=\"text-align: right;\">\n",
       "      <th></th>\n",
       "      <th>index</th>\n",
       "      <th>room_id</th>\n",
       "      <th>host_id</th>\n",
       "      <th>reviews</th>\n",
       "      <th>overall_satisfaction</th>\n",
       "      <th>accommodates</th>\n",
       "      <th>bedrooms</th>\n",
       "      <th>bathrooms</th>\n",
       "      <th>price</th>\n",
       "      <th>latitude</th>\n",
       "      <th>longitude</th>\n",
       "    </tr>\n",
       "  </thead>\n",
       "  <tbody>\n",
       "    <tr>\n",
       "      <th>index</th>\n",
       "      <td>1.000000</td>\n",
       "      <td>0.986648</td>\n",
       "      <td>0.451378</td>\n",
       "      <td>-0.507586</td>\n",
       "      <td>-0.025078</td>\n",
       "      <td>0.035365</td>\n",
       "      <td>0.006124</td>\n",
       "      <td>0.000719</td>\n",
       "      <td>-0.055265</td>\n",
       "      <td>-0.074949</td>\n",
       "      <td>0.050741</td>\n",
       "    </tr>\n",
       "    <tr>\n",
       "      <th>room_id</th>\n",
       "      <td>0.986648</td>\n",
       "      <td>1.000000</td>\n",
       "      <td>0.453296</td>\n",
       "      <td>-0.511793</td>\n",
       "      <td>-0.018600</td>\n",
       "      <td>0.038484</td>\n",
       "      <td>0.006022</td>\n",
       "      <td>-0.000711</td>\n",
       "      <td>-0.053716</td>\n",
       "      <td>-0.079784</td>\n",
       "      <td>0.047569</td>\n",
       "    </tr>\n",
       "    <tr>\n",
       "      <th>host_id</th>\n",
       "      <td>0.451378</td>\n",
       "      <td>0.453296</td>\n",
       "      <td>1.000000</td>\n",
       "      <td>-0.200814</td>\n",
       "      <td>0.015221</td>\n",
       "      <td>0.036426</td>\n",
       "      <td>0.030678</td>\n",
       "      <td>0.020584</td>\n",
       "      <td>-0.014979</td>\n",
       "      <td>-0.028514</td>\n",
       "      <td>0.091241</td>\n",
       "    </tr>\n",
       "    <tr>\n",
       "      <th>reviews</th>\n",
       "      <td>-0.507586</td>\n",
       "      <td>-0.511793</td>\n",
       "      <td>-0.200814</td>\n",
       "      <td>1.000000</td>\n",
       "      <td>0.116875</td>\n",
       "      <td>-0.068583</td>\n",
       "      <td>-0.146709</td>\n",
       "      <td>-0.122522</td>\n",
       "      <td>-0.129536</td>\n",
       "      <td>-0.001282</td>\n",
       "      <td>-0.106726</td>\n",
       "    </tr>\n",
       "    <tr>\n",
       "      <th>overall_satisfaction</th>\n",
       "      <td>-0.025078</td>\n",
       "      <td>-0.018600</td>\n",
       "      <td>0.015221</td>\n",
       "      <td>0.116875</td>\n",
       "      <td>1.000000</td>\n",
       "      <td>0.012818</td>\n",
       "      <td>0.032538</td>\n",
       "      <td>0.007902</td>\n",
       "      <td>0.068808</td>\n",
       "      <td>-0.008918</td>\n",
       "      <td>-0.045116</td>\n",
       "    </tr>\n",
       "    <tr>\n",
       "      <th>accommodates</th>\n",
       "      <td>0.035365</td>\n",
       "      <td>0.038484</td>\n",
       "      <td>0.036426</td>\n",
       "      <td>-0.068583</td>\n",
       "      <td>0.012818</td>\n",
       "      <td>1.000000</td>\n",
       "      <td>0.802680</td>\n",
       "      <td>0.547146</td>\n",
       "      <td>0.448353</td>\n",
       "      <td>-0.016340</td>\n",
       "      <td>-0.064127</td>\n",
       "    </tr>\n",
       "    <tr>\n",
       "      <th>bedrooms</th>\n",
       "      <td>0.006124</td>\n",
       "      <td>0.006022</td>\n",
       "      <td>0.030678</td>\n",
       "      <td>-0.146709</td>\n",
       "      <td>0.032538</td>\n",
       "      <td>0.802680</td>\n",
       "      <td>1.000000</td>\n",
       "      <td>0.623590</td>\n",
       "      <td>0.463130</td>\n",
       "      <td>-0.003920</td>\n",
       "      <td>0.024624</td>\n",
       "    </tr>\n",
       "    <tr>\n",
       "      <th>bathrooms</th>\n",
       "      <td>0.000719</td>\n",
       "      <td>-0.000711</td>\n",
       "      <td>0.020584</td>\n",
       "      <td>-0.122522</td>\n",
       "      <td>0.007902</td>\n",
       "      <td>0.547146</td>\n",
       "      <td>0.623590</td>\n",
       "      <td>1.000000</td>\n",
       "      <td>0.426785</td>\n",
       "      <td>0.004396</td>\n",
       "      <td>0.014980</td>\n",
       "    </tr>\n",
       "    <tr>\n",
       "      <th>price</th>\n",
       "      <td>-0.055265</td>\n",
       "      <td>-0.053716</td>\n",
       "      <td>-0.014979</td>\n",
       "      <td>-0.129536</td>\n",
       "      <td>0.068808</td>\n",
       "      <td>0.448353</td>\n",
       "      <td>0.463130</td>\n",
       "      <td>0.426785</td>\n",
       "      <td>1.000000</td>\n",
       "      <td>0.023346</td>\n",
       "      <td>-0.047010</td>\n",
       "    </tr>\n",
       "    <tr>\n",
       "      <th>latitude</th>\n",
       "      <td>-0.074949</td>\n",
       "      <td>-0.079784</td>\n",
       "      <td>-0.028514</td>\n",
       "      <td>-0.001282</td>\n",
       "      <td>-0.008918</td>\n",
       "      <td>-0.016340</td>\n",
       "      <td>-0.003920</td>\n",
       "      <td>0.004396</td>\n",
       "      <td>0.023346</td>\n",
       "      <td>1.000000</td>\n",
       "      <td>-0.055931</td>\n",
       "    </tr>\n",
       "    <tr>\n",
       "      <th>longitude</th>\n",
       "      <td>0.050741</td>\n",
       "      <td>0.047569</td>\n",
       "      <td>0.091241</td>\n",
       "      <td>-0.106726</td>\n",
       "      <td>-0.045116</td>\n",
       "      <td>-0.064127</td>\n",
       "      <td>0.024624</td>\n",
       "      <td>0.014980</td>\n",
       "      <td>-0.047010</td>\n",
       "      <td>-0.055931</td>\n",
       "      <td>1.000000</td>\n",
       "    </tr>\n",
       "  </tbody>\n",
       "</table>\n",
       "</div>"
      ],
      "text/plain": [
       "                         index   room_id   host_id   reviews  \\\n",
       "index                 1.000000  0.986648  0.451378 -0.507586   \n",
       "room_id               0.986648  1.000000  0.453296 -0.511793   \n",
       "host_id               0.451378  0.453296  1.000000 -0.200814   \n",
       "reviews              -0.507586 -0.511793 -0.200814  1.000000   \n",
       "overall_satisfaction -0.025078 -0.018600  0.015221  0.116875   \n",
       "accommodates          0.035365  0.038484  0.036426 -0.068583   \n",
       "bedrooms              0.006124  0.006022  0.030678 -0.146709   \n",
       "bathrooms             0.000719 -0.000711  0.020584 -0.122522   \n",
       "price                -0.055265 -0.053716 -0.014979 -0.129536   \n",
       "latitude             -0.074949 -0.079784 -0.028514 -0.001282   \n",
       "longitude             0.050741  0.047569  0.091241 -0.106726   \n",
       "\n",
       "                      overall_satisfaction  accommodates  bedrooms  bathrooms  \\\n",
       "index                            -0.025078      0.035365  0.006124   0.000719   \n",
       "room_id                          -0.018600      0.038484  0.006022  -0.000711   \n",
       "host_id                           0.015221      0.036426  0.030678   0.020584   \n",
       "reviews                           0.116875     -0.068583 -0.146709  -0.122522   \n",
       "overall_satisfaction              1.000000      0.012818  0.032538   0.007902   \n",
       "accommodates                      0.012818      1.000000  0.802680   0.547146   \n",
       "bedrooms                          0.032538      0.802680  1.000000   0.623590   \n",
       "bathrooms                         0.007902      0.547146  0.623590   1.000000   \n",
       "price                             0.068808      0.448353  0.463130   0.426785   \n",
       "latitude                         -0.008918     -0.016340 -0.003920   0.004396   \n",
       "longitude                        -0.045116     -0.064127  0.024624   0.014980   \n",
       "\n",
       "                         price  latitude  longitude  \n",
       "index                -0.055265 -0.074949   0.050741  \n",
       "room_id              -0.053716 -0.079784   0.047569  \n",
       "host_id              -0.014979 -0.028514   0.091241  \n",
       "reviews              -0.129536 -0.001282  -0.106726  \n",
       "overall_satisfaction  0.068808 -0.008918  -0.045116  \n",
       "accommodates          0.448353 -0.016340  -0.064127  \n",
       "bedrooms              0.463130 -0.003920   0.024624  \n",
       "bathrooms             0.426785  0.004396   0.014980  \n",
       "price                 1.000000  0.023346  -0.047010  \n",
       "latitude              0.023346  1.000000  -0.055931  \n",
       "longitude            -0.047010 -0.055931   1.000000  "
      ]
     },
     "execution_count": 36,
     "metadata": {},
     "output_type": "execute_result"
    }
   ],
   "source": [
    "df.corr()"
   ]
  },
  {
   "cell_type": "markdown",
   "metadata": {},
   "source": [
    "Computes the pairwise correlations of the columns within the dataset."
   ]
  },
  {
   "cell_type": "code",
   "execution_count": 37,
   "metadata": {},
   "outputs": [
    {
     "data": {
      "image/png": "[encoded data removed]",
      "text/plain": [
       "<Figure size 432x288 with 2 Axes>"
      ]
     },
     "metadata": {
      "needs_background": "light"
     },
     "output_type": "display_data"
    }
   ],
   "source": [
    "corrMatrix = df.corr()\n",
    "sns.heatmap(corrMatrix, annot=True)\n",
    "plt.show()"
   ]
  },
  {
   "cell_type": "markdown",
   "metadata": {},
   "source": [
    "Displays a visual representaion of the correlation matrix."
   ]
  },
  {
   "cell_type": "markdown",
   "metadata": {},
   "source": [
    "## 9. Data preprocessing\n",
    "In this step you conduct preprocessing. Different algorithms require different types of preprocessing so you may need to replicate this step multiple times for different models."
   ]
  },
  {
   "cell_type": "code",
   "execution_count": 38,
   "metadata": {},
   "outputs": [],
   "source": [
    "cluster_numeric_df = cluster_df[['reviews', 'overall_satisfaction', 'accommodates', 'bedrooms', 'bathrooms', 'price']]"
   ]
  },
  {
   "cell_type": "markdown",
   "metadata": {},
   "source": [
    "We are creating a dataframe which only contains numeric values as we will be disregarding the categorical values for Cluster Analysis."
   ]
  },
  {
   "cell_type": "code",
   "execution_count": 39,
   "metadata": {},
   "outputs": [
    {
     "data": {
      "text/plain": [
       "Index(['reviews', 'overall_satisfaction', 'accommodates', 'bedrooms',\n",
       "       'bathrooms', 'price'],\n",
       "      dtype='object')"
      ]
     },
     "execution_count": 39,
     "metadata": {},
     "output_type": "execute_result"
    }
   ],
   "source": [
    "cluster_numeric_df.columns"
   ]
  },
  {
   "cell_type": "markdown",
   "metadata": {},
   "source": [
    "Displays the numeric columns."
   ]
  },
  {
   "cell_type": "code",
   "execution_count": 40,
   "metadata": {},
   "outputs": [
    {
     "data": {
      "text/html": [
       "<div>\n",
       "<style scoped>\n",
       "    .dataframe tbody tr th:only-of-type {\n",
       "        vertical-align: middle;\n",
       "    }\n",
       "\n",
       "    .dataframe tbody tr th {\n",
       "        vertical-align: top;\n",
       "    }\n",
       "\n",
       "    .dataframe thead th {\n",
       "        text-align: right;\n",
       "    }\n",
       "</style>\n",
       "<table border=\"1\" class=\"dataframe\">\n",
       "  <thead>\n",
       "    <tr style=\"text-align: right;\">\n",
       "      <th></th>\n",
       "      <th>reviews</th>\n",
       "      <th>overall_satisfaction</th>\n",
       "      <th>accommodates</th>\n",
       "      <th>bedrooms</th>\n",
       "      <th>bathrooms</th>\n",
       "      <th>price</th>\n",
       "    </tr>\n",
       "    <tr>\n",
       "      <th>city</th>\n",
       "      <th></th>\n",
       "      <th></th>\n",
       "      <th></th>\n",
       "      <th></th>\n",
       "      <th></th>\n",
       "      <th></th>\n",
       "    </tr>\n",
       "  </thead>\n",
       "  <tbody>\n",
       "    <tr>\n",
       "      <th>Ballard</th>\n",
       "      <td>236.00000</td>\n",
       "      <td>5.00000</td>\n",
       "      <td>5.00000</td>\n",
       "      <td>1.00000</td>\n",
       "      <td>1.00000</td>\n",
       "      <td>75.0000</td>\n",
       "    </tr>\n",
       "    <tr>\n",
       "      <th>Bellevue</th>\n",
       "      <td>21.68944</td>\n",
       "      <td>4.78631</td>\n",
       "      <td>3.26397</td>\n",
       "      <td>1.53106</td>\n",
       "      <td>1.28106</td>\n",
       "      <td>102.5559</td>\n",
       "    </tr>\n",
       "    <tr>\n",
       "      <th>Bothell</th>\n",
       "      <td>0.00000</td>\n",
       "      <td>0.00000</td>\n",
       "      <td>5.50000</td>\n",
       "      <td>3.00000</td>\n",
       "      <td>2.50000</td>\n",
       "      <td>399.5000</td>\n",
       "    </tr>\n",
       "    <tr>\n",
       "      <th>Capitol Hill</th>\n",
       "      <td>52.00000</td>\n",
       "      <td>5.00000</td>\n",
       "      <td>4.00000</td>\n",
       "      <td>2.00000</td>\n",
       "      <td>1.00000</td>\n",
       "      <td>160.0000</td>\n",
       "    </tr>\n",
       "    <tr>\n",
       "      <th>Clyde Hill</th>\n",
       "      <td>89.50000</td>\n",
       "      <td>5.00000</td>\n",
       "      <td>2.00000</td>\n",
       "      <td>0.00000</td>\n",
       "      <td>1.00000</td>\n",
       "      <td>94.5000</td>\n",
       "    </tr>\n",
       "  </tbody>\n",
       "</table>\n",
       "</div>"
      ],
      "text/plain": [
       "                reviews  overall_satisfaction  accommodates  bedrooms  \\\n",
       "city                                                                    \n",
       "Ballard       236.00000               5.00000       5.00000   1.00000   \n",
       "Bellevue       21.68944               4.78631       3.26397   1.53106   \n",
       "Bothell         0.00000               0.00000       5.50000   3.00000   \n",
       "Capitol Hill   52.00000               5.00000       4.00000   2.00000   \n",
       "Clyde Hill     89.50000               5.00000       2.00000   0.00000   \n",
       "\n",
       "              bathrooms     price  \n",
       "city                               \n",
       "Ballard         1.00000   75.0000  \n",
       "Bellevue        1.28106  102.5559  \n",
       "Bothell         2.50000  399.5000  \n",
       "Capitol Hill    1.00000  160.0000  \n",
       "Clyde Hill      1.00000   94.5000  "
      ]
     },
     "execution_count": 40,
     "metadata": {},
     "output_type": "execute_result"
    }
   ],
   "source": [
    "cluster_numeric_df = cluster_numeric_df.apply(lambda x: x.astype('float64'))\n",
    "cluster_numeric_df.head()"
   ]
  },
  {
   "cell_type": "markdown",
   "metadata": {},
   "source": [
    "We incoporate the lambda function to convert each numeric value to float while displaying the first five rows."
   ]
  },
  {
   "cell_type": "markdown",
   "metadata": {},
   "source": [
    "### 9.1. Dummies\n",
    "Explain why or why not you need to create dummies. Create dummies below if needed."
   ]
  },
  {
   "cell_type": "code",
   "execution_count": 41,
   "metadata": {},
   "outputs": [
    {
     "name": "stdout",
     "output_type": "stream",
     "text": [
      "(6090, 7)\n"
     ]
    },
    {
     "data": {
      "text/html": [
       "<div>\n",
       "<style scoped>\n",
       "    .dataframe tbody tr th:only-of-type {\n",
       "        vertical-align: middle;\n",
       "    }\n",
       "\n",
       "    .dataframe tbody tr th {\n",
       "        vertical-align: top;\n",
       "    }\n",
       "\n",
       "    .dataframe thead th {\n",
       "        text-align: right;\n",
       "    }\n",
       "</style>\n",
       "<table border=\"1\" class=\"dataframe\">\n",
       "  <thead>\n",
       "    <tr style=\"text-align: right;\">\n",
       "      <th></th>\n",
       "      <th>reviews</th>\n",
       "      <th>overall_satisfaction</th>\n",
       "      <th>accommodates</th>\n",
       "      <th>bedrooms</th>\n",
       "      <th>bathrooms</th>\n",
       "      <th>room_type_Private room</th>\n",
       "      <th>room_type_Shared room</th>\n",
       "    </tr>\n",
       "  </thead>\n",
       "  <tbody>\n",
       "    <tr>\n",
       "      <th>0</th>\n",
       "      <td>21</td>\n",
       "      <td>5.0</td>\n",
       "      <td>8</td>\n",
       "      <td>4</td>\n",
       "      <td>2.5</td>\n",
       "      <td>0</td>\n",
       "      <td>0</td>\n",
       "    </tr>\n",
       "  </tbody>\n",
       "</table>\n",
       "</div>"
      ],
      "text/plain": [
       "   reviews  overall_satisfaction  accommodates  bedrooms  bathrooms  \\\n",
       "0       21                   5.0             8         4        2.5   \n",
       "\n",
       "   room_type_Private room  room_type_Shared room  \n",
       "0                       0                      0  "
      ]
     },
     "execution_count": 41,
     "metadata": {},
     "output_type": "execute_result"
    }
   ],
   "source": [
    "predictors = ['reviews', 'overall_satisfaction', 'accommodates', 'bedrooms', 'bathrooms', 'room_type']\n",
    "\n",
    "outcome = 'price'\n",
    "\n",
    "X = df2[predictors]\n",
    "X = pd.get_dummies(X, columns=['room_type'], drop_first=True)\n",
    "y = df2[outcome]\n",
    "\n",
    "print(X.shape)\n",
    "\n",
    "X.head(1)"
   ]
  },
  {
   "cell_type": "markdown",
   "metadata": {},
   "source": [
    "Data preprocessing for Regression Analysis.  Here we set our indepedent variables as: 'reviews', 'overall_satisfaction', 'accommodates', 'bedrooms', 'bathrooms' and 'room_type', which will be our predictors for our dependent variable: 'price', which is our target/outcome.  Our independent variables will be included within the dataframe named X, and our dependent variable will be include within a single-dimension dataframe named y.  Futhermore, we incorporate a dummy varaible to that of 'room_type' as it is a categorical variable that we want to include within our analysis."
   ]
  },
  {
   "cell_type": "markdown",
   "metadata": {},
   "source": [
    "### 9.2. Normalization"
   ]
  },
  {
   "cell_type": "markdown",
   "metadata": {},
   "source": [
    "Explain why or why not you need to normalize the data. Normalize it below if needed."
   ]
  },
  {
   "cell_type": "code",
   "execution_count": 42,
   "metadata": {},
   "outputs": [
    {
     "data": {
      "text/html": [
       "<div>\n",
       "<style scoped>\n",
       "    .dataframe tbody tr th:only-of-type {\n",
       "        vertical-align: middle;\n",
       "    }\n",
       "\n",
       "    .dataframe tbody tr th {\n",
       "        vertical-align: top;\n",
       "    }\n",
       "\n",
       "    .dataframe thead th {\n",
       "        text-align: right;\n",
       "    }\n",
       "</style>\n",
       "<table border=\"1\" class=\"dataframe\">\n",
       "  <thead>\n",
       "    <tr style=\"text-align: right;\">\n",
       "      <th></th>\n",
       "      <th>reviews</th>\n",
       "      <th>overall_satisfaction</th>\n",
       "      <th>accommodates</th>\n",
       "      <th>bedrooms</th>\n",
       "      <th>bathrooms</th>\n",
       "      <th>price</th>\n",
       "    </tr>\n",
       "    <tr>\n",
       "      <th>city</th>\n",
       "      <th></th>\n",
       "      <th></th>\n",
       "      <th></th>\n",
       "      <th></th>\n",
       "      <th></th>\n",
       "      <th></th>\n",
       "    </tr>\n",
       "  </thead>\n",
       "  <tbody>\n",
       "    <tr>\n",
       "      <th>Ballard</th>\n",
       "      <td>3.629392</td>\n",
       "      <td>0.494299</td>\n",
       "      <td>0.457312</td>\n",
       "      <td>-0.850956</td>\n",
       "      <td>-0.846151</td>\n",
       "      <td>-0.895958</td>\n",
       "    </tr>\n",
       "    <tr>\n",
       "      <th>Bellevue</th>\n",
       "      <td>-0.349361</td>\n",
       "      <td>0.377705</td>\n",
       "      <td>-0.524071</td>\n",
       "      <td>-0.306360</td>\n",
       "      <td>-0.340651</td>\n",
       "      <td>-0.583896</td>\n",
       "    </tr>\n",
       "    <tr>\n",
       "      <th>Bothell</th>\n",
       "      <td>-0.752033</td>\n",
       "      <td>-2.233809</td>\n",
       "      <td>0.739964</td>\n",
       "      <td>1.200019</td>\n",
       "      <td>1.851669</td>\n",
       "      <td>2.778899</td>\n",
       "    </tr>\n",
       "    <tr>\n",
       "      <th>Capitol Hill</th>\n",
       "      <td>0.213365</td>\n",
       "      <td>0.494299</td>\n",
       "      <td>-0.107991</td>\n",
       "      <td>0.174532</td>\n",
       "      <td>-0.846151</td>\n",
       "      <td>0.066639</td>\n",
       "    </tr>\n",
       "    <tr>\n",
       "      <th>Clyde Hill</th>\n",
       "      <td>0.909566</td>\n",
       "      <td>0.494299</td>\n",
       "      <td>-1.238597</td>\n",
       "      <td>-1.876443</td>\n",
       "      <td>-0.846151</td>\n",
       "      <td>-0.675127</td>\n",
       "    </tr>\n",
       "  </tbody>\n",
       "</table>\n",
       "</div>"
      ],
      "text/plain": [
       "               reviews  overall_satisfaction  accommodates  bedrooms  \\\n",
       "city                                                                   \n",
       "Ballard       3.629392              0.494299      0.457312 -0.850956   \n",
       "Bellevue     -0.349361              0.377705     -0.524071 -0.306360   \n",
       "Bothell      -0.752033             -2.233809      0.739964  1.200019   \n",
       "Capitol Hill  0.213365              0.494299     -0.107991  0.174532   \n",
       "Clyde Hill    0.909566              0.494299     -1.238597 -1.876443   \n",
       "\n",
       "              bathrooms     price  \n",
       "city                               \n",
       "Ballard       -0.846151 -0.895958  \n",
       "Bellevue      -0.340651 -0.583896  \n",
       "Bothell        1.851669  2.778899  \n",
       "Capitol Hill  -0.846151  0.066639  \n",
       "Clyde Hill    -0.846151 -0.675127  "
      ]
     },
     "execution_count": 42,
     "metadata": {},
     "output_type": "execute_result"
    }
   ],
   "source": [
    "cluster_numeric_df_norm = cluster_numeric_df.apply(preprocessing.scale, axis=0)\n",
    "cluster_numeric_df_norm.head()"
   ]
  },
  {
   "cell_type": "markdown",
   "metadata": {},
   "source": [
    "Here we normalize the numeric values.  The reason why we must normalize our numeric values for Cluster Analysis is to prevent certain variables with larger scales from exercing control of how the clusters are interpreted."
   ]
  },
  {
   "cell_type": "markdown",
   "metadata": {},
   "source": [
    "## 10. Modeling\n",
    "Please refer to project description for the requirements."
   ]
  },
  {
   "cell_type": "markdown",
   "metadata": {},
   "source": [
    "REGRESSION ANALYSIS\n",
    "\n",
    "\n",
    "\n"
   ]
  },
  {
   "cell_type": "code",
   "execution_count": 43,
   "metadata": {},
   "outputs": [],
   "source": [
    "train_X, valid_X, train_y, valid_y = train_test_split(X, y, test_size=0.4, random_state=1)"
   ]
  },
  {
   "cell_type": "markdown",
   "metadata": {},
   "source": [
    "Now we partition the data, by incoporating training and validation test by setting the test size to 40%."
   ]
  },
  {
   "cell_type": "code",
   "execution_count": 44,
   "metadata": {},
   "outputs": [
    {
     "data": {
      "text/plain": [
       "LinearRegression()"
      ]
     },
     "execution_count": 44,
     "metadata": {},
     "output_type": "execute_result"
    }
   ],
   "source": [
    "seattle_lm = LinearRegression()\n",
    "seattle_lm.fit(train_X, train_y)"
   ]
  },
  {
   "cell_type": "markdown",
   "metadata": {},
   "source": [
    "Create an instance for Linear Regression.  We will be training the model on training data. "
   ]
  },
  {
   "cell_type": "code",
   "execution_count": 45,
   "metadata": {},
   "outputs": [
    {
     "name": "stdout",
     "output_type": "stream",
     "text": [
      "intercept -37.99642582987998\n",
      "                Predictor  coefficient\n",
      "0                 reviews    -0.105432\n",
      "1    overall_satisfaction    15.360909\n",
      "2            accommodates     0.560205\n",
      "3                bedrooms    32.707863\n",
      "4               bathrooms    32.593842\n",
      "5  room_type_Private room   -41.591845\n",
      "6   room_type_Shared room   -82.637411\n",
      "\n",
      "Regression statistics\n",
      "\n",
      "                      Mean Error (ME) : 0.0000\n",
      "       Root Mean Squared Error (RMSE) : 64.5331\n",
      "            Mean Absolute Error (MAE) : 36.9066\n",
      "          Mean Percentage Error (MPE) : -16.7986\n",
      "Mean Absolute Percentage Error (MAPE) : 38.9608\n"
     ]
    }
   ],
   "source": [
    "print('intercept', seattle_lm.intercept_)\n",
    "print(pd.DataFrame({'Predictor': X.columns, 'coefficient': seattle_lm.coef_}))\n",
    "\n",
    "regressionSummary(train_y, seattle_lm.predict(train_X))"
   ]
  },
  {
   "cell_type": "markdown",
   "metadata": {},
   "source": [
    "Prints the predictors coefficients.  Displays how much the predictors factor into the price of the Airbnb and prints the performance measures of the training set.\n",
    "\n",
    "reviews: For each additional review from a customer, the average price of the Airbnb listing decreases by around $0.11.\n",
    "\n",
    "overall_satisfaction: For each additional overall satisfaction score provided from the customer, the average price of the Airbnb listing increases by around $15.36.\n",
    "\n",
    "accommodates: For each additional accommodate staying at the Airbnb, the average price increases by around $0.56.\n",
    "\n",
    "bedrooms: For each additional bedroom that the listing contains, the average price increases by around $32.71.\n",
    "\n",
    "bathrooms: For each additional bathroom that the listing contains, the average price increases by around $32.59.\n",
    "\n",
    "room_type_Private room: When the Airbnb is a private room, the average price decreases by around $41.59.\n",
    "\n",
    "room_type_Shared room: When the Airbnb is a shared room, the average price decreases by around $82.64.\n",
    "\n",
    "RMSE: 64.5331\n",
    "\n",
    "MAE: 36.9066\n",
    "\n",
    "MPE: -16.7986\n",
    "\n",
    "MAPE: 38.9608"
   ]
  },
  {
   "cell_type": "code",
   "execution_count": 46,
   "metadata": {},
   "outputs": [
    {
     "name": "stdout",
     "output_type": "stream",
     "text": [
      "adjusted r2 :  0.4435355257085758\n",
      "AIC :  40841.34211523716\n",
      "BIC :  40897.174314869604\n"
     ]
    }
   ],
   "source": [
    "pred_y = seattle_lm.predict(train_X)\n",
    "\n",
    "print('adjusted r2 : ', adjusted_r2_score(train_y, pred_y, seattle_lm))\n",
    "print('AIC : ', AIC_score(train_y, pred_y, seattle_lm))\n",
    "print('BIC : ', BIC_score(train_y, pred_y, seattle_lm))"
   ]
  },
  {
   "cell_type": "markdown",
   "metadata": {},
   "source": [
    "Test the model using the training set in order to make predictions.  44.35% of variants in the price of Airbnb listings can be explained from the predictors variables and 55.65% cannot be explained within this model, which is where the MAPE 38.96 comes from."
   ]
  },
  {
   "cell_type": "code",
   "execution_count": 47,
   "metadata": {},
   "outputs": [
    {
     "name": "stdout",
     "output_type": "stream",
     "text": [
      "       Predicted  Actual   Residual\n",
      "3712  169.016548     250  80.983452\n",
      "2131  103.543321      50 -53.543321\n",
      "1037  215.015220     250  34.984780\n",
      "2347   54.887535      85  30.112465\n",
      "171    61.707567      79  17.292433\n",
      "3637  104.913937     105   0.086063\n",
      "6007   56.318005     110  53.681995\n",
      "5528   59.842837      75  15.157163\n",
      "6288  136.488795      94 -42.488795\n",
      "4652   66.829044     100  33.170956\n",
      "3546  102.344227      89 -13.344227\n",
      "2715   79.327015      84   4.672985\n",
      "5309  134.241679      73 -61.241679\n",
      "3734  104.913937      95  -9.913937\n",
      "2764   55.641637      75  19.358363\n",
      "369    64.347800     100  35.652200\n",
      "6529  170.672705      95 -75.672705\n",
      "3276   91.524078      60 -31.524078\n",
      "5171   21.352295      38  16.647705\n",
      "3344   97.916085     122  24.083915\n"
     ]
    }
   ],
   "source": [
    "seattle_lm_pred = seattle_lm.predict(valid_X)\n",
    "\n",
    "result = pd.DataFrame({'Predicted': seattle_lm_pred, 'Actual': valid_y, 'Residual': valid_y - seattle_lm_pred})\n",
    "\n",
    "print(result.head(20))"
   ]
  },
  {
   "cell_type": "markdown",
   "metadata": {},
   "source": [
    "Test the model using the validation set in order to make predictions.  Prints the predicted and actual value of the Airbnb listing.  The difference between the actual and prediction produces the error/residual."
   ]
  },
  {
   "cell_type": "code",
   "execution_count": 48,
   "metadata": {},
   "outputs": [
    {
     "name": "stdout",
     "output_type": "stream",
     "text": [
      "\n",
      "Regression statistics\n",
      "\n",
      "                      Mean Error (ME) : 1.0219\n",
      "       Root Mean Squared Error (RMSE) : 55.5206\n",
      "            Mean Absolute Error (MAE) : 35.8654\n",
      "          Mean Percentage Error (MPE) : -15.1259\n",
      "Mean Absolute Percentage Error (MAPE) : 37.8769\n"
     ]
    }
   ],
   "source": [
    "regressionSummary(valid_y, seattle_lm_pred)"
   ]
  },
  {
   "cell_type": "markdown",
   "metadata": {},
   "source": [
    "Prints the performance measures of the validation set.  When looking at both the training and validation sets, the RMSE of the training is at 64.5331 and the validation set is at 55.5206.  Furthermore, we have the MAPE at 38.9608 for training and 37.8769 for validation.  The model performs better during the validation set than that of the training set.  It is very slight, but with RMSE and MAPE being less in validation than training, there is no concern of overfitting.\n",
    "\n",
    "RMSE: 55.5206\n",
    "\n",
    "MAE: 35.8654\n",
    "\n",
    "MPE: -15.1259\n",
    "\n",
    "MAPE: 37.8769"
   ]
  },
  {
   "cell_type": "code",
   "execution_count": 49,
   "metadata": {},
   "outputs": [
    {
     "name": "stdout",
     "output_type": "stream",
     "text": [
      "0.8957307060755336\n"
     ]
    },
    {
     "data": {
      "image/png": "[encoded data removed]",
      "text/plain": [
       "<Figure size 432x288 with 1 Axes>"
      ]
     },
     "metadata": {
      "needs_background": "light"
     },
     "output_type": "display_data"
    }
   ],
   "source": [
    "seattle_lm_pred = seattle_lm.predict(valid_X)\n",
    "all_residuals = valid_y - seattle_lm_pred\n",
    "\n",
    "print(len(all_residuals[(all_residuals > -75) & (all_residuals < 75)]) / len(all_residuals))\n",
    "\n",
    "ax = pd.DataFrame({'Residuals': all_residuals}).hist(bins=25)\n",
    "\n",
    "plt.tight_layout()\n",
    "plt.show()\n"
   ]
  },
  {
   "cell_type": "markdown",
   "metadata": {},
   "source": [
    "The chart displayed above about the residuals displays that around 89.57 percent of the Airbnb prices are within 75 dollars of the actual price and around 10.43 percent are outside of the actual price.  The graph displays that most are in between 100 dollars; due to the graph being fairly symmetric and balanced around 0, it is not really overestimating or underestimating. "
   ]
  },
  {
   "cell_type": "code",
   "execution_count": 50,
   "metadata": {},
   "outputs": [
    {
     "name": "stdout",
     "output_type": "stream",
     "text": [
      "   n     r2adj           AIC  accommodates  bathrooms  bedrooms  overall_satisfaction  reviews  \\\n",
      "0  1  0.362654  41331.229506         False      False      True                 False    False   \n",
      "1  2  0.399275  41116.001843         False      False      True                 False    False   \n",
      "2  3  0.422905  40970.368453         False       True      True                 False    False   \n",
      "3  4  0.435465  40890.962806         False       True      True                 False    False   \n",
      "4  5  0.441310  40853.929490         False       True      True                 False     True   \n",
      "5  6  0.443625  40839.756904         False       True      True                  True     True   \n",
      "6  7  0.443536  40841.342115          True       True      True                  True     True   \n",
      "\n",
      "   room_type_Private room  room_type_Shared room  \n",
      "0                   False                  False  \n",
      "1                    True                  False  \n",
      "2                    True                  False  \n",
      "3                    True                   True  \n",
      "4                    True                   True  \n",
      "5                    True                   True  \n",
      "6                    True                   True  \n"
     ]
    }
   ],
   "source": [
    "def train_model(variables):\n",
    "    model = LinearRegression()\n",
    "    model.fit(train_X[variables], train_y)\n",
    "    return model\n",
    "\n",
    "def score_model(model, variables):\n",
    "    pred_y = model.predict(train_X[variables])\n",
    "    # we negate as score is optimized to be as low as possible\n",
    "    return -adjusted_r2_score(train_y, pred_y, model)\n",
    "\n",
    "allVariables = train_X.columns\n",
    "results = exhaustive_search(allVariables, train_model, score_model)\n",
    "\n",
    "data = []\n",
    "for result in results:\n",
    "    model = result['model']\n",
    "    variables = result['variables']\n",
    "    AIC = AIC_score(train_y, model.predict(train_X[variables]), model)\n",
    "    \n",
    "    d = {'n': result['n'], 'r2adj': -result['score'], 'AIC': AIC}\n",
    "    d.update({var: var in result['variables'] for var in allVariables})\n",
    "    data.append(d)\n",
    "pd.set_option('display.width', 100)\n",
    "print(pd.DataFrame(data, columns=('n', 'r2adj', 'AIC') + tuple(sorted(allVariables))))\n",
    "pd.reset_option('display.width')"
   ]
  },
  {
   "cell_type": "markdown",
   "metadata": {},
   "source": [
    "Prints exhaustive search, which is all of the possible subsets of the predictors.  Based on exhaustive search, the best model would be 6 as it has the lowest AIC.  The features of this model include: 'bathrooms', 'bedrooms', 'overall_satisfaction', 'reviews', 'room_type_Private room', and 'room_type_Shared room'."
   ]
  },
  {
   "cell_type": "code",
   "execution_count": 51,
   "metadata": {},
   "outputs": [
    {
     "name": "stdout",
     "output_type": "stream",
     "text": [
      "Variables: reviews, overall_satisfaction, accommodates, bedrooms, bathrooms, room_type_Private room, room_type_Shared room\n",
      "Start: score=40841.34\n",
      "Step: score=40839.76, remove accommodates\n",
      "Step: score=40839.76, remove None\n",
      "['reviews', 'overall_satisfaction', 'bedrooms', 'bathrooms', 'room_type_Private room', 'room_type_Shared room']\n"
     ]
    }
   ],
   "source": [
    "def train_model(variables):\n",
    "    model = LinearRegression()\n",
    "    model.fit(train_X[variables], train_y)\n",
    "    return model\n",
    "\n",
    "def score_model(model, variables):\n",
    "    return AIC_score(train_y, model.predict(train_X[variables]), model)\n",
    "\n",
    "best_model, best_variables = backward_elimination(train_X.columns, train_model, score_model, verbose=True)\n",
    "\n",
    "print(best_variables)"
   ]
  },
  {
   "cell_type": "markdown",
   "metadata": {},
   "source": [
    "Prints backward elimination.  First defines the train model and score model.  Here, it starts with all the predictors and successively eliminates the least useful predictors one at a time, which in this case happens to be 'accommodates'.  It keeps all the other predictors.  By eliminating the least useful predictor, the score decreases from 40841.34 to 40839.76."
   ]
  },
  {
   "cell_type": "code",
   "execution_count": 52,
   "metadata": {},
   "outputs": [
    {
     "name": "stdout",
     "output_type": "stream",
     "text": [
      "\n",
      "Regression statistics\n",
      "\n",
      "                      Mean Error (ME) : 1.0218\n",
      "       Root Mean Squared Error (RMSE) : 55.5608\n",
      "            Mean Absolute Error (MAE) : 35.9410\n",
      "          Mean Percentage Error (MPE) : -15.1263\n",
      "Mean Absolute Percentage Error (MAPE) : 37.9933\n"
     ]
    }
   ],
   "source": [
    "regressionSummary(valid_y, best_model.predict(valid_X[best_variables]))"
   ]
  },
  {
   "cell_type": "markdown",
   "metadata": {},
   "source": [
    "Prints the performance measures of backward elimination.  This model performs better than that of the training set as it is compared from an MAPE of 38.9608 percent and is now 37.9933 percent; however, it performs worse than the validation set which has an MAPE of 37.8769 percent.  \n",
    "\n",
    "RMSE: 55.5608\n",
    "MAE: 35.9410\n",
    "MPE: -15.1263\n",
    "MAPE: 37.9933"
   ]
  },
  {
   "cell_type": "code",
   "execution_count": 53,
   "metadata": {},
   "outputs": [
    {
     "name": "stdout",
     "output_type": "stream",
     "text": [
      "Variables: reviews, overall_satisfaction, accommodates, bedrooms, bathrooms, room_type_Private room, room_type_Shared room\n",
      "Start: score=42976.15, constant\n",
      "Step: score=41331.23, add bedrooms\n",
      "Step: score=41116.00, add room_type_Private room\n",
      "Step: score=40970.37, add bathrooms\n",
      "Step: score=40890.96, add room_type_Shared room\n",
      "Step: score=40853.93, add reviews\n",
      "Step: score=40839.76, add overall_satisfaction\n",
      "Step: score=40839.76, add None\n",
      "['bedrooms', 'room_type_Private room', 'bathrooms', 'room_type_Shared room', 'reviews', 'overall_satisfaction']\n"
     ]
    }
   ],
   "source": [
    "def train_model(variables):\n",
    "    if len(variables) == 0:\n",
    "        return None\n",
    "    model = LinearRegression()\n",
    "    model.fit(train_X[variables], train_y)\n",
    "    return model\n",
    "\n",
    "def score_model(model, variables):\n",
    "    if len(variables) == 0:\n",
    "        return AIC_score(train_y, [train_y.mean()] * len(train_y), model, df=1)\n",
    "    return AIC_score(train_y, model.predict(train_X[variables]), model)\n",
    "\n",
    "best_model, best_variables = forward_selection(train_X.columns, train_model, score_model, verbose=True)\n",
    "\n",
    "print(best_variables)"
   ]
  },
  {
   "cell_type": "markdown",
   "metadata": {},
   "source": [
    "Prints the forward selection.  Opposite that of backward elimination, forward selction starts with no predictors, but adds them one at a time.  We ended up getting the same thing with that of backward elimination.  "
   ]
  },
  {
   "cell_type": "code",
   "execution_count": 54,
   "metadata": {},
   "outputs": [
    {
     "name": "stdout",
     "output_type": "stream",
     "text": [
      "Variables: reviews, overall_satisfaction, accommodates, bedrooms, bathrooms, room_type_Private room, room_type_Shared room\n",
      "Start: score=42976.15, constant\n",
      "Step: score=41331.23, add bedrooms\n",
      "Step: score=41116.00, add room_type_Private room\n",
      "Step: score=40970.37, add bathrooms\n",
      "Step: score=40890.96, add room_type_Shared room\n",
      "Step: score=40853.93, add reviews\n",
      "Step: score=40839.76, add overall_satisfaction\n",
      "Step: score=40839.76, unchanged None\n",
      "['bedrooms', 'room_type_Private room', 'bathrooms', 'room_type_Shared room', 'reviews', 'overall_satisfaction']\n"
     ]
    }
   ],
   "source": [
    "best_model, best_variables = stepwise_selection(train_X.columns, train_model, score_model, verbose=True)\n",
    "\n",
    "print(best_variables)"
   ]
  },
  {
   "cell_type": "markdown",
   "metadata": {},
   "source": [
    "Prints the stepwise selection.  Basically, the same thing as forward selection, but takes into consideration dropping a predictors.  However, in this case nothing was dropped, thus, the same output.  "
   ]
  },
  {
   "cell_type": "markdown",
   "metadata": {},
   "source": [
    "REGRESSION TREES"
   ]
  },
  {
   "cell_type": "code",
   "execution_count": 55,
   "metadata": {},
   "outputs": [
    {
     "name": "stdout",
     "output_type": "stream",
     "text": [
      "Initial parameters:  {'max_depth': 5, 'min_impurity_decrease': 0, 'min_samples_split': 10}\n",
      "Improved parameters:  {'max_depth': 5, 'min_impurity_decrease': 0, 'min_samples_split': 14}\n"
     ]
    }
   ],
   "source": [
    "predictors = ['reviews', 'overall_satisfaction', 'accommodates', 'bedrooms', 'bathrooms', 'room_type']\n",
    "\n",
    "outcome = 'price'\n",
    "\n",
    "X = df2[predictors]\n",
    "X = pd.get_dummies(X, columns=['room_type'], drop_first=True)\n",
    "y = df2[outcome]\n",
    "\n",
    "train_X, valid_X, train_y, valid_y = train_test_split(X, y, test_size=0.4, random_state=1)\n",
    "\n",
    "param_grid = {\n",
    "    'max_depth': [5, 10, 15, 20, 25], \n",
    "    'min_impurity_decrease': [0, 0.001, 0.005, 0.01], \n",
    "    'min_samples_split': [10, 20, 30, 40, 50], \n",
    "}\n",
    "gridSearch = GridSearchCV(DecisionTreeRegressor(), param_grid, cv=5, n_jobs=-1)\n",
    "gridSearch.fit(train_X, train_y)\n",
    "print('Initial parameters: ', gridSearch.best_params_)\n",
    "\n",
    "param_grid = {\n",
    "    'max_depth': [3, 4, 5, 6, 7, 8, 9, 10, 11, 12], \n",
    "    'min_impurity_decrease': [0, 0.001, 0.002, 0.003, 0.005, 0.006, 0.007, 0.008], \n",
    "    'min_samples_split': [14, 15, 16, 18, 20, ], \n",
    "}\n",
    "gridSearch = GridSearchCV(DecisionTreeRegressor(), param_grid, cv=5, n_jobs=-1)\n",
    "gridSearch.fit(train_X, train_y)\n",
    "print('Improved parameters: ', gridSearch.best_params_)\n",
    "\n",
    "regTree = gridSearch.best_estimator_"
   ]
  },
  {
   "cell_type": "markdown",
   "metadata": {},
   "source": [
    "Here we train another predictive model using Regression Trees.  Preprocessing steps are very similar to that of linear regression as we keep the dependent and independent variables the same for analysis.  The prediction is computed as the average numerical target variables in the tree, and the sum of squared deviations measures the impurity.  We train the best parameters and get the initial parameter with max_depth of 5, min_samples_split of 10; and improved parameters with a max_depth of 5, min_samples_split of 15, both with min_impurity_decrease of 0."
   ]
  },
  {
   "cell_type": "code",
   "execution_count": 56,
   "metadata": {},
   "outputs": [
    {
     "name": "stdout",
     "output_type": "stream",
     "text": [
      "\n",
      "Regression statistics\n",
      "\n",
      "                      Mean Error (ME) : 0.0000\n",
      "       Root Mean Squared Error (RMSE) : 58.1505\n",
      "            Mean Absolute Error (MAE) : 33.9307\n",
      "          Mean Percentage Error (MPE) : -17.1322\n",
      "Mean Absolute Percentage Error (MAPE) : 35.3639\n",
      "\n",
      "Regression statistics\n",
      "\n",
      "                      Mean Error (ME) : 1.8104\n",
      "       Root Mean Squared Error (RMSE) : 56.3754\n",
      "            Mean Absolute Error (MAE) : 35.0508\n",
      "          Mean Percentage Error (MPE) : -15.7955\n",
      "Mean Absolute Percentage Error (MAPE) : 35.3620\n"
     ]
    }
   ],
   "source": [
    "regressionSummary(train_y, regTree.predict(train_X))\n",
    "regressionSummary(valid_y, regTree.predict(valid_X))"
   ]
  },
  {
   "cell_type": "markdown",
   "metadata": {},
   "source": [
    "Prints the performance measures of the training and validation sets of Regression Trees.  Training set has a MAPE of 35.3639 percent and validation set has a MAPE of 35.3620.  Validation set slightly performs better than training set with a difference of around 0.0019.  "
   ]
  },
  {
   "cell_type": "code",
   "execution_count": 57,
   "metadata": {},
   "outputs": [
    {
     "name": "stdout",
     "output_type": "stream",
     "text": [
      "0.8944991789819376\n"
     ]
    },
    {
     "data": {
      "image/png": "[encoded data removed]",
      "text/plain": [
       "<Figure size 432x288 with 1 Axes>"
      ]
     },
     "metadata": {
      "needs_background": "light"
     },
     "output_type": "display_data"
    }
   ],
   "source": [
    "regTree_pred = regTree.predict(valid_X)\n",
    "all_residuals = valid_y - regTree_pred\n",
    "\n",
    "\n",
    "print(len(all_residuals[(all_residuals > -75) & (all_residuals < 75)]) / len(all_residuals))\n",
    "\n",
    "ax = pd.DataFrame({'Residuals': all_residuals}).hist(bins=25)\n",
    "\n",
    "plt.tight_layout()\n",
    "plt.show()"
   ]
  },
  {
   "cell_type": "markdown",
   "metadata": {},
   "source": [
    "The chart displayed above about the residuals displays that around 89.45 percent of the Airbnb prices are within 75 dollars of the actual price and around 10.55 percent are outside of the actual price.  The graph displays that most are in between 100 dollars; due to the graph being fairly symmetric and balanced around 0, it is not really overestimating or underestimating. "
   ]
  },
  {
   "cell_type": "code",
   "execution_count": 58,
   "metadata": {},
   "outputs": [
    {
     "data": {
      "image/png": "[encoded data removed]",
      "text/plain": [
       "<Figure size 432x288 with 1 Axes>"
      ]
     },
     "metadata": {
      "needs_background": "light"
     },
     "output_type": "display_data"
    }
   ],
   "source": [
    "N = 4\n",
    "\n",
    "Train_OLS = (64.5331, 36.9066, -16.7986,  38.9608)\n",
    "\n",
    "Valid_OLS = (55.5206, 35.8654, -15.1259, 37.8769)\n",
    "\n",
    "Backward_Elimination = (55.5608, 35.9410,  -15.1263, 37.9933)\n",
    "\n",
    "Train_Reg_Tree = (58.1505, 33.9307, -17.1322, 35.3639)\n",
    "\n",
    "Valid_Reg_Tree = (56.3754, 35.0508, -15.7955, 35.3620)\n",
    "\n",
    "ind = np.arange(N)\n",
    "width = 0.15\n",
    "\n",
    "plt.bar(ind, Train_OLS, width, label='Train_OLS')\n",
    "plt.bar(ind + width, Valid_OLS, width, label='Valid_OLS')\n",
    "plt.bar(ind + width + width, Backward_Elimination, width, label='Backward_Elimination')\n",
    "plt.bar(ind + width + width + width, Train_Reg_Tree, width, label='Train_Reg_Tree')\n",
    "plt.bar(ind + width + width + width + width, Valid_Reg_Tree, width, label='Valid_Reg_Tree')\n",
    "\n",
    "plt.ylabel('Performance Measures')\n",
    "plt.title('Comparison: OLS & Regression Trees')\n",
    "\n",
    "plt.xticks(ind + width / 2, ('RMSE', 'MAE', 'MPE', 'MAPE'))\n",
    "plt.legend(loc='best')\n",
    "plt.show()"
   ]
  },
  {
   "cell_type": "markdown",
   "metadata": {},
   "source": [
    "The bar chart displayed above shows the comparison of performance measures amongst OLS and Regression Tree models.  Based on the bar chart, the best model would have to be that of the validation tests.  For both Valid_OLS and Valid_Reg_Tree, they both have the lowest RMSE and MAPE, however Valid_Reg_Tree has the biggest difference of MAPE at 35.3620 compared to that of Valid_OLS.  Thus, the best model with the least error is Valid_Reg_Tree."
   ]
  },
  {
   "cell_type": "markdown",
   "metadata": {},
   "source": [
    "CLUSTER ANALYSIS"
   ]
  },
  {
   "cell_type": "code",
   "execution_count": 59,
   "metadata": {},
   "outputs": [
    {
     "name": "stdout",
     "output_type": "stream",
     "text": [
      "0 :  West Seattle, Yarrow Point\n",
      "1 :  Hunts Point\n",
      "2 :  Washington\n",
      "3 :  Ballard\n",
      "4 :  Bellevue, Capitol Hill, Kirkland, Medina, Newcastle, Redmond, Renton, Seattle\n",
      "5 :  Bothell\n",
      "6 :  Clyde Hill\n",
      "7 :  Tukwila\n",
      "8 :  Mercer Island\n",
      "9 :  Vashon\n"
     ]
    }
   ],
   "source": [
    "kmeans = KMeans(n_clusters=10, random_state=0) .fit(cluster_numeric_df_norm)\n",
    "memb = pd.Series(kmeans.labels_, index=cluster_numeric_df_norm.index)\n",
    "for key, item in memb.groupby(memb):\n",
    "    print(key, ': ', ', '.join(item.index))"
   ]
  },
  {
   "cell_type": "markdown",
   "metadata": {},
   "source": [
    "We make 10 clusters hereand use the random state at 0 to make the centriods random. We then fit it into the normal data frame which will give us 10 different clujsters."
   ]
  },
  {
   "cell_type": "code",
   "execution_count": 60,
   "metadata": {},
   "outputs": [
    {
     "data": {
      "text/plain": [
       "array([3, 4, 5, 4, 6, 1, 4, 4, 8, 4, 4, 4, 4, 7, 9, 2, 0, 0])"
      ]
     },
     "execution_count": 60,
     "metadata": {},
     "output_type": "execute_result"
    }
   ],
   "source": [
    "kmeans.labels_"
   ]
  },
  {
   "cell_type": "markdown",
   "metadata": {},
   "source": [
    "We can see where each of the citys cluster value is within kmeans"
   ]
  },
  {
   "cell_type": "code",
   "execution_count": 61,
   "metadata": {},
   "outputs": [
    {
     "name": "stdout",
     "output_type": "stream",
     "text": [
      "   reviews  overall_satisfaction  accommodates  bedrooms  bathrooms   price\n",
      "0  -0.3529                0.4943       -0.9559   -0.8510    -0.8462 -0.1910\n",
      "1  -0.5664                0.4943        2.7185    2.2255     2.7509  2.2070\n",
      "2  -0.7520               -2.2338       -0.1080    0.1745     0.9524 -0.2844\n",
      "3   3.6294                0.4943        0.4573   -0.8510    -0.8462 -0.8960\n",
      "4  -0.1884                0.4106       -0.3441   -0.2156    -0.3384 -0.4472\n",
      "5  -0.7520               -2.2338        0.7400    1.2000     1.8517  2.7789\n",
      "6   0.9096                0.4943       -1.2386   -1.8764    -0.8462 -0.6751\n",
      "7   0.8260                0.4943        2.1532    2.2255     0.9524 -0.0466\n",
      "8  -0.3484                0.4512        0.0503    0.1540     0.4308  1.2052\n",
      "9  -0.7335               -2.2338       -0.1080    0.1745    -0.8462 -0.3297\n"
     ]
    }
   ],
   "source": [
    "centroids = pd.DataFrame(kmeans.cluster_centers_, columns=cluster_numeric_df_norm.columns)\n",
    "pd.set_option('precision', 4)\n",
    "print(centroids)\n",
    "pd.set_option('precision', 9)"
   ]
  },
  {
   "cell_type": "markdown",
   "metadata": {},
   "source": [
    "Here we print the average centriod for each cluster. "
   ]
  },
  {
   "cell_type": "code",
   "execution_count": 62,
   "metadata": {},
   "outputs": [
    {
     "name": "stdout",
     "output_type": "stream",
     "text": [
      "Cluster 0 (2 members):  0.70 within cluster\n",
      "Cluster 1 (1 members):  0.00 within cluster\n",
      "Cluster 2 (1 members):  0.00 within cluster\n",
      "Cluster 3 (1 members):  0.00 within cluster\n",
      "Cluster 4 (8 members):  2.71 within cluster\n",
      "Cluster 5 (1 members):  0.00 within cluster\n",
      "Cluster 6 (1 members):  0.00 within cluster\n",
      "Cluster 7 (1 members):  0.00 within cluster\n",
      "Cluster 8 (1 members):  0.00 within cluster\n",
      "Cluster 9 (1 members):  0.00 within cluster\n"
     ]
    }
   ],
   "source": [
    "withinClusterSS = [0] * 10\n",
    "clusterCount = [0] * 10\n",
    "for cluster, distance in zip(kmeans.labels_, kmeans.transform(cluster_numeric_df_norm)):\n",
    "    withinClusterSS[cluster] += distance[cluster]**2\n",
    "    clusterCount[cluster] += 1\n",
    "for cluster, withClustSS in enumerate(withinClusterSS):\n",
    "    print('Cluster {} ({} members): {:5.2f} within cluster'.format(cluster, \n",
    "        clusterCount[cluster], withinClusterSS[cluster]))"
   ]
  },
  {
   "cell_type": "markdown",
   "metadata": {},
   "source": [
    "We can see how far each value is away from the clusters. Most of these are zero because they only have 1 member within their cluster."
   ]
  },
  {
   "cell_type": "code",
   "execution_count": 63,
   "metadata": {},
   "outputs": [
    {
     "name": "stdout",
     "output_type": "stream",
     "text": [
      "             0            1            2            3            4  \\\n",
      "0  0.000000000  6.457664003  3.551907505  4.284009901  1.065597840   \n",
      "1  6.457664003  0.000000000  5.395805467  7.399300767  5.663697101   \n",
      "2  3.551907505  5.395805467  0.000000000  5.623112207  3.034971121   \n",
      "3  4.284009901  7.399300767  5.623112207  0.000000000  4.010908989   \n",
      "4  1.065597840  5.663697101  3.034971121  4.010908989  0.000000000   \n",
      "5  5.548244866  3.684986413  3.458801030  7.190873210  5.068883435   \n",
      "6  1.720367531  7.477230890  4.367570454  3.372528685  2.254043709   \n",
      "7  4.876163283  3.251443069  4.394197263  4.914852739  3.880506067   \n",
      "8  2.367371983  4.224501444  3.144656124  4.800636609  1.908288615   \n",
      "9  3.062240519  6.248219502  1.799212794  5.307440887  2.787347915   \n",
      "\n",
      "             5            6            7            8            9  \n",
      "0  5.548244866  1.720367531  4.876163283  2.367371983  3.062240519  \n",
      "1  3.684986413  7.477230890  3.251443069  4.224501444  6.248219502  \n",
      "2  3.458801030  4.367570454  4.394197263  3.144656124  1.799212794  \n",
      "3  7.190873210  3.372528685  4.914852739  4.800636609  5.307440887  \n",
      "4  5.068883435  2.254043709  3.880506067  1.908288615  2.787347915  \n",
      "5  0.000000000  6.541509093  4.666254878  3.665695900  4.325826002  \n",
      "6  6.541509093  0.000000000  5.653955857  3.540449452  3.968148857  \n",
      "7  4.666254878  5.653955857  0.000000000  3.454511876  4.744374314  \n",
      "8  3.665695900  3.540449452  3.454511876  0.000000000  3.371918457  \n",
      "9  4.325826002  3.968148857  4.744374314  3.371918457  0.000000000  \n"
     ]
    }
   ],
   "source": [
    "print(pd.DataFrame(pairwise.pairwise_distances(kmeans.cluster_centers_, metric='euclidean')))"
   ]
  },
  {
   "cell_type": "markdown",
   "metadata": {},
   "source": [
    "This pairwise function allow us to see the distance between each record. This allows us to see the distance between our data instances."
   ]
  },
  {
   "cell_type": "code",
   "execution_count": null,
   "metadata": {},
   "outputs": [],
   "source": []
  },
  {
   "cell_type": "code",
   "execution_count": 64,
   "metadata": {},
   "outputs": [
    {
     "data": {
      "image/png": "[encoded data removed]",
      "text/plain": [
       "<Figure size 432x288 with 1 Axes>"
      ]
     },
     "metadata": {
      "needs_background": "light"
     },
     "output_type": "display_data"
    }
   ],
   "source": [
    "kmeans = KMeans(n_clusters = 10, random_state=0).fit(cluster_numeric_df_norm)\n",
    "inertia = []\n",
    "for n_clusters in range(1, 11):\n",
    "    kmeans = KMeans(n_clusters=n_clusters, random_state=0).fit(cluster_numeric_df_norm)\n",
    "    inertia.append(kmeans.inertia_ / n_clusters)\n",
    "inertias = pd.DataFrame({'n_clusters': range(1, 11), 'inertia': inertia})\n",
    "ax = inertias.plot(x='n_clusters', y='inertia')\n",
    "plt.xlabel('Number of clusters(k)')\n",
    "plt.ylabel('Average Within-Cluster Squared Distances')\n",
    "plt.ylim((0, 1.1 * inertias.inertia.max()))\n",
    "ax.legend().set_visible(False)\n",
    "plt.show()"
   ]
  },
  {
   "cell_type": "markdown",
   "metadata": {},
   "source": [
    "The code allows us to print out an elbow chart which lets us visualize which k value is the best. In this chart, it is a bit difficult to see where the optimal k value will be so we decided to do another chart below."
   ]
  },
  {
   "cell_type": "code",
   "execution_count": 65,
   "metadata": {},
   "outputs": [
    {
     "data": {
      "image/png": "[encoded data removed]",
      "text/plain": [
       "<Figure size 432x288 with 1 Axes>"
      ]
     },
     "metadata": {
      "needs_background": "light"
     },
     "output_type": "display_data"
    }
   ],
   "source": [
    "kmeans = KMeans(n_clusters = 10, random_state=0).fit(cluster_numeric_df_norm)\n",
    "inertia = []\n",
    "for n_clusters in range(1, 11):\n",
    "    kmeans = KMeans(n_clusters=n_clusters, random_state=0).fit(cluster_numeric_df_norm)\n",
    "    inertia.append(kmeans.inertia_)\n",
    "inertias = pd.DataFrame({'n_clusters': range(1, 11), 'inertia': inertia})\n",
    "ax = inertias.plot(x='n_clusters', y='inertia')\n",
    "plt.xlabel('Number of clusters(k)')\n",
    "plt.ylabel('Average Within-Cluster Squared Distances')\n",
    "plt.ylim((0, 1.1 * inertias.inertia.max()))\n",
    "ax.legend().set_visible(False)\n",
    "plt.show()"
   ]
  },
  {
   "cell_type": "markdown",
   "metadata": {},
   "source": [
    "By taking out the portion where we would devide by n_clusters, it is a better visualization that 5 is the best optimal value for K."
   ]
  },
  {
   "cell_type": "code",
   "execution_count": 66,
   "metadata": {},
   "outputs": [
    {
     "data": {
      "image/png": "[encoded data removed]",
      "text/plain": [
       "<Figure size 720x432 with 1 Axes>"
      ]
     },
     "metadata": {
      "needs_background": "light"
     },
     "output_type": "display_data"
    }
   ],
   "source": [
    "Z = linkage(cluster_numeric_df_norm, method='single')\n",
    "fig = plt.figure(figsize=(10, 6))\n",
    "fig.subplots_adjust(bottom=0.23)\n",
    "plt.title('Hierarchical clustering Dendrogram (Single linkage)')\n",
    "plt.xlabel('Symbol')\n",
    "dendrogram(Z, labels = cluster_df.index, color_threshold=2.75)\n",
    "plt.axhline(y=1.7, color='black', linewidth=0.5, linestyle='dashed')\n",
    "plt.show()"
   ]
  },
  {
   "cell_type": "markdown",
   "metadata": {},
   "source": [
    "With this code we make a dendrogram based on single linkage to see the the clusters are being formed based on their proximity with each other. The shorter the distance the more likely they will become a cluster"
   ]
  },
  {
   "cell_type": "code",
   "execution_count": 67,
   "metadata": {},
   "outputs": [
    {
     "name": "stdout",
     "output_type": "stream",
     "text": [
      "1 :  Bellevue, Capitol Hill, Kirkland, Medina, Newcastle, Redmond, Renton, Seattle, West Seattle\n",
      "2 :  Yarrow Point\n",
      "3 :  Clyde Hill\n",
      "4 :  Mercer Island\n",
      "5 :  Vashon\n",
      "6 :  Washington\n",
      "7 :  Hunts Point\n",
      "8 :  Tukwila\n",
      "9 :  Ballard\n",
      "10 :  Bothell\n"
     ]
    }
   ],
   "source": [
    "memb = fcluster(linkage(cluster_numeric_df_norm, 'single'), 10, criterion='maxclust')\n",
    "memb = pd.Series(memb, index = cluster_df.index)\n",
    "for key, item in memb.groupby(memb):\n",
    "    print(key, ': ', ', '.join(item.index))"
   ]
  },
  {
   "cell_type": "markdown",
   "metadata": {},
   "source": [
    "After making these clusters based on single linkaged, we make a for loop to print out each cluster"
   ]
  },
  {
   "cell_type": "code",
   "execution_count": 68,
   "metadata": {},
   "outputs": [
    {
     "data": {
      "image/png": "[encoded data removed]",
      "text/plain": [
       "<Figure size 720x432 with 1 Axes>"
      ]
     },
     "metadata": {
      "needs_background": "light"
     },
     "output_type": "display_data"
    }
   ],
   "source": [
    "Z = linkage(cluster_numeric_df_norm, method='average')\n",
    "fig=plt.figure(figsize=(10, 6))\n",
    "fig.subplots_adjust(bottom=0.23)\n",
    "plt.title('Hierarchical Clustering Dendrogram (Average linkage)')\n",
    "plt.xlabel('Symbol')\n",
    "dendrogram(Z, labels=cluster_df.index, color_threshold=3.6)\n",
    "plt.axhline(y=2.2, color='black', linewidth=0.5, linestyle='dashed')\n",
    "plt.show()"
   ]
  },
  {
   "cell_type": "markdown",
   "metadata": {},
   "source": [
    "Similar to the chart above, we make another dendrogram, this time based on average linkage which is based on highest cohesion with each other. We draw the line at 2.2 so that we are able to capture 5 clusters."
   ]
  },
  {
   "cell_type": "code",
   "execution_count": 69,
   "metadata": {},
   "outputs": [
    {
     "name": "stdout",
     "output_type": "stream",
     "text": [
      "1 :  Hunts Point\n",
      "2 :  Tukwila\n",
      "3 :  Bothell\n",
      "4 :  Vashon\n",
      "5 :  Washington\n",
      "6 :  Bellevue, Capitol Hill, Kirkland, Medina, Newcastle, Redmond, Renton, Seattle, West Seattle\n",
      "7 :  Yarrow Point\n",
      "8 :  Mercer Island\n",
      "9 :  Clyde Hill\n",
      "10 :  Ballard\n"
     ]
    }
   ],
   "source": [
    "memb = fcluster(linkage(cluster_numeric_df_norm, 'average'), 10, criterion='maxclust')\n",
    "memb = pd.Series(memb, index=cluster_df.index)\n",
    "for key, item in memb.groupby(memb):\n",
    "    print(key, ': ', ', '.join(item.index))"
   ]
  },
  {
   "cell_type": "markdown",
   "metadata": {},
   "source": [
    "This lets us see the clusters again and we can see that clusters are much different than the single linkage"
   ]
  },
  {
   "cell_type": "code",
   "execution_count": 70,
   "metadata": {},
   "outputs": [
    {
     "data": {
      "image/png": "[encoded data removed]",
      "text/plain": [
       "<Figure size 720x720 with 4 Axes>"
      ]
     },
     "metadata": {
      "needs_background": "light"
     },
     "output_type": "display_data"
    }
   ],
   "source": [
    "cluster_df.index = ['{}: {}'.format(cluster, Symbol) for cluster,  Symbol in zip(memb, cluster_df.index)]\n",
    "sns.clustermap(cluster_numeric_df_norm, method='average', col_cluster=False, cmap='mako_r')\n",
    "plt.show()"
   ]
  },
  {
   "cell_type": "markdown",
   "metadata": {},
   "source": [
    "We then made a heat graph that allows us to visualize our data within the dendrogram and see why it came out as it did within the singl elinkage method. The major of the data below Washington seems to be homogenous which is why they ended up becoming a single cluster in the end where as the two cities, Bothell and Hunts Point seemm to be a lot darker which is why they sticked with one another until the very last time we group them into a single cluster."
   ]
  },
  {
   "cell_type": "code",
   "execution_count": 71,
   "metadata": {},
   "outputs": [
    {
     "data": {
      "image/png": "[encoded data removed]",
      "text/plain": [
       "<Figure size 720x720 with 4 Axes>"
      ]
     },
     "metadata": {
      "needs_background": "light"
     },
     "output_type": "display_data"
    }
   ],
   "source": [
    "cluster_df.index = ['{}: {}'.format(cluster, Symbol) for cluster,  Symbol in zip(memb, cluster_df.index)]\n",
    "sns.clustermap(cluster_numeric_df_norm, method='single', col_cluster=False, cmap='mako_r')\n",
    "plt.show()"
   ]
  },
  {
   "cell_type": "markdown",
   "metadata": {},
   "source": [
    "This heatmap visualizes our average linkage method for the dendrogram and we can see that it comes out with different clusters. The main thing we see here that was address in the heatmap above was that Hunts Point and Bothell are no longer clustered together. Originally, they were clustered together most likely because of their dark hue within price but now we see that it makes more sense to not group the two. Hunts Points has a lot more similarities throughout all the columns with Tukwila such as bedrooms and acommodates which is why they were grouped together. "
   ]
  },
  {
   "cell_type": "code",
   "execution_count": null,
   "metadata": {},
   "outputs": [],
   "source": []
  }
 ],
 "metadata": {
  "kernelspec": {
   "display_name": "Python 3",
   "language": "python",
   "name": "python3"
  },
  "language_info": {
   "codemirror_mode": {
    "name": "ipython",
    "version": 3
   },
   "file_extension": ".py",
   "mimetype": "text/x-python",
   "name": "python",
   "nbconvert_exporter": "python",
   "pygments_lexer": "ipython3",
   "version": "3.8.3"
  }
 },
 "nbformat": 4,
 "nbformat_minor": 2
}
