{
 "cells": [
  {
   "cell_type": "markdown",
   "metadata": {},
   "source": [
    "KNN CLASSIFICATION"
   ]
  },
  {
   "cell_type": "code",
   "execution_count": 181,
   "metadata": {},
   "outputs": [],
   "source": [
    "%matplotlib inline\n",
    "\n",
    "from pathlib import Path\n",
    "\n",
    "import pandas as pd\n",
    "from sklearn import preprocessing\n",
    "from sklearn.model_selection import train_test_split\n",
    "from sklearn.metrics import accuracy_score\n",
    "from sklearn.neighbors import NearestNeighbors, KNeighborsClassifier\n",
    "import matplotlib.pylab as plt\n",
    "\n",
    "%matplotlib inline\n",
    "\n",
    "from pathlib import Path\n",
    "\n",
    "import pandas as pd\n",
    "import numpy as np\n",
    "from sklearn.tree import DecisionTreeClassifier, DecisionTreeRegressor\n",
    "from sklearn.ensemble import RandomForestClassifier, GradientBoostingClassifier\n",
    "from sklearn.model_selection import train_test_split, cross_val_score, GridSearchCV\n",
    "import matplotlib.pylab as plt\n",
    "from dmba import plotDecisionTree, classificationSummary, regressionSummary\n"
   ]
  },
  {
   "cell_type": "code",
   "execution_count": 214,
   "metadata": {},
   "outputs": [
    {
     "data": {
      "text/plain": [
       "(7497, 18)"
      ]
     },
     "execution_count": 214,
     "metadata": {},
     "output_type": "execute_result"
    }
   ],
   "source": [
    "df=pd.read_csv('seattle_airbnb.csv')\n",
    "df.shape #the original data rows and columns"
   ]
  },
  {
   "cell_type": "code",
   "execution_count": 274,
   "metadata": {},
   "outputs": [],
   "source": [
    "knn_df = df[['city', 'price', 'latitude', 'longitude']]"
   ]
  },
  {
   "cell_type": "code",
   "execution_count": 275,
   "metadata": {},
   "outputs": [
    {
     "data": {
      "text/plain": [
       "Index(['city', 'price', 'latitude', 'longitude'], dtype='object')"
      ]
     },
     "execution_count": 275,
     "metadata": {},
     "output_type": "execute_result"
    }
   ],
   "source": [
    "knn_df.columns"
   ]
  },
  {
   "cell_type": "code",
   "execution_count": 276,
   "metadata": {},
   "outputs": [
    {
     "data": {
      "text/plain": [
       "city         0\n",
       "price        0\n",
       "latitude     0\n",
       "longitude    0\n",
       "dtype: int64"
      ]
     },
     "execution_count": 276,
     "metadata": {},
     "output_type": "execute_result"
    }
   ],
   "source": [
    "knn_df.isnull().sum()"
   ]
  },
  {
   "cell_type": "code",
   "execution_count": 277,
   "metadata": {},
   "outputs": [],
   "source": [
    "neighbor_df = knn_df.dropna()"
   ]
  },
  {
   "cell_type": "code",
   "execution_count": 278,
   "metadata": {},
   "outputs": [
    {
     "data": {
      "text/html": [
       "<div>\n",
       "<style scoped>\n",
       "    .dataframe tbody tr th:only-of-type {\n",
       "        vertical-align: middle;\n",
       "    }\n",
       "\n",
       "    .dataframe tbody tr th {\n",
       "        vertical-align: top;\n",
       "    }\n",
       "\n",
       "    .dataframe thead th {\n",
       "        text-align: right;\n",
       "    }\n",
       "</style>\n",
       "<table border=\"1\" class=\"dataframe\">\n",
       "  <thead>\n",
       "    <tr style=\"text-align: right;\">\n",
       "      <th></th>\n",
       "      <th>city</th>\n",
       "      <th>price</th>\n",
       "      <th>latitude</th>\n",
       "      <th>longitude</th>\n",
       "    </tr>\n",
       "  </thead>\n",
       "  <tbody>\n",
       "    <tr>\n",
       "      <th>0</th>\n",
       "      <td>Seattle, WA, United States</td>\n",
       "      <td>250</td>\n",
       "      <td>47.610819</td>\n",
       "      <td>-122.290816</td>\n",
       "    </tr>\n",
       "    <tr>\n",
       "      <th>1</th>\n",
       "      <td>Seattle, WA, United States</td>\n",
       "      <td>100</td>\n",
       "      <td>47.529846</td>\n",
       "      <td>-122.275840</td>\n",
       "    </tr>\n",
       "    <tr>\n",
       "      <th>2</th>\n",
       "      <td>Seattle, WA, United States</td>\n",
       "      <td>82</td>\n",
       "      <td>47.687801</td>\n",
       "      <td>-122.313427</td>\n",
       "    </tr>\n",
       "    <tr>\n",
       "      <th>3</th>\n",
       "      <td>Seattle, WA, United States</td>\n",
       "      <td>49</td>\n",
       "      <td>47.523980</td>\n",
       "      <td>-122.359891</td>\n",
       "    </tr>\n",
       "    <tr>\n",
       "      <th>4</th>\n",
       "      <td>Seattle, WA, United States</td>\n",
       "      <td>90</td>\n",
       "      <td>47.654109</td>\n",
       "      <td>-122.337605</td>\n",
       "    </tr>\n",
       "  </tbody>\n",
       "</table>\n",
       "</div>"
      ],
      "text/plain": [
       "                         city  price   latitude   longitude\n",
       "0  Seattle, WA, United States    250  47.610819 -122.290816\n",
       "1  Seattle, WA, United States    100  47.529846 -122.275840\n",
       "2  Seattle, WA, United States     82  47.687801 -122.313427\n",
       "3  Seattle, WA, United States     49  47.523980 -122.359891\n",
       "4  Seattle, WA, United States     90  47.654109 -122.337605"
      ]
     },
     "execution_count": 278,
     "metadata": {},
     "output_type": "execute_result"
    }
   ],
   "source": [
    "neighbor_df.head()"
   ]
  },
  {
   "cell_type": "code",
   "execution_count": 279,
   "metadata": {},
   "outputs": [
    {
     "data": {
      "text/plain": [
       "(7497, 4)"
      ]
     },
     "execution_count": 279,
     "metadata": {},
     "output_type": "execute_result"
    }
   ],
   "source": [
    "neighbor_df.shape"
   ]
  },
  {
   "cell_type": "code",
   "execution_count": 280,
   "metadata": {},
   "outputs": [
    {
     "data": {
      "text/html": [
       "<div>\n",
       "<style scoped>\n",
       "    .dataframe tbody tr th:only-of-type {\n",
       "        vertical-align: middle;\n",
       "    }\n",
       "\n",
       "    .dataframe tbody tr th {\n",
       "        vertical-align: top;\n",
       "    }\n",
       "\n",
       "    .dataframe thead th {\n",
       "        text-align: right;\n",
       "    }\n",
       "</style>\n",
       "<table border=\"1\" class=\"dataframe\">\n",
       "  <thead>\n",
       "    <tr style=\"text-align: right;\">\n",
       "      <th></th>\n",
       "      <th>city</th>\n",
       "      <th>price</th>\n",
       "      <th>latitude</th>\n",
       "      <th>longitude</th>\n",
       "    </tr>\n",
       "  </thead>\n",
       "  <tbody>\n",
       "    <tr>\n",
       "      <th>0</th>\n",
       "      <td>Seattle, WA, United States</td>\n",
       "      <td>250</td>\n",
       "      <td>47.610819</td>\n",
       "      <td>-122.290816</td>\n",
       "    </tr>\n",
       "    <tr>\n",
       "      <th>1</th>\n",
       "      <td>Seattle, WA, United States</td>\n",
       "      <td>100</td>\n",
       "      <td>47.529846</td>\n",
       "      <td>-122.275840</td>\n",
       "    </tr>\n",
       "    <tr>\n",
       "      <th>2</th>\n",
       "      <td>Seattle, WA, United States</td>\n",
       "      <td>82</td>\n",
       "      <td>47.687801</td>\n",
       "      <td>-122.313427</td>\n",
       "    </tr>\n",
       "    <tr>\n",
       "      <th>3</th>\n",
       "      <td>Seattle, WA, United States</td>\n",
       "      <td>49</td>\n",
       "      <td>47.523980</td>\n",
       "      <td>-122.359891</td>\n",
       "    </tr>\n",
       "    <tr>\n",
       "      <th>4</th>\n",
       "      <td>Seattle, WA, United States</td>\n",
       "      <td>90</td>\n",
       "      <td>47.654109</td>\n",
       "      <td>-122.337605</td>\n",
       "    </tr>\n",
       "  </tbody>\n",
       "</table>\n",
       "</div>"
      ],
      "text/plain": [
       "                         city  price   latitude   longitude\n",
       "0  Seattle, WA, United States    250  47.610819 -122.290816\n",
       "1  Seattle, WA, United States    100  47.529846 -122.275840\n",
       "2  Seattle, WA, United States     82  47.687801 -122.313427\n",
       "3  Seattle, WA, United States     49  47.523980 -122.359891\n",
       "4  Seattle, WA, United States     90  47.654109 -122.337605"
      ]
     },
     "execution_count": 280,
     "metadata": {},
     "output_type": "execute_result"
    }
   ],
   "source": [
    "neighbor_df.head()"
   ]
  },
  {
   "cell_type": "code",
   "execution_count": 281,
   "metadata": {},
   "outputs": [
    {
     "name": "stdout",
     "output_type": "stream",
     "text": [
      "(4498, 4) (2999, 4)\n"
     ]
    },
    {
     "data": {
      "text/html": [
       "<div>\n",
       "<style scoped>\n",
       "    .dataframe tbody tr th:only-of-type {\n",
       "        vertical-align: middle;\n",
       "    }\n",
       "\n",
       "    .dataframe tbody tr th {\n",
       "        vertical-align: top;\n",
       "    }\n",
       "\n",
       "    .dataframe thead th {\n",
       "        text-align: right;\n",
       "    }\n",
       "</style>\n",
       "<table border=\"1\" class=\"dataframe\">\n",
       "  <thead>\n",
       "    <tr style=\"text-align: right;\">\n",
       "      <th></th>\n",
       "      <th>latitude</th>\n",
       "      <th>longitude</th>\n",
       "    </tr>\n",
       "  </thead>\n",
       "  <tbody>\n",
       "    <tr>\n",
       "      <th>0</th>\n",
       "      <td>46</td>\n",
       "      <td>-122.2</td>\n",
       "    </tr>\n",
       "  </tbody>\n",
       "</table>\n",
       "</div>"
      ],
      "text/plain": [
       "   latitude  longitude\n",
       "0        46     -122.2"
      ]
     },
     "execution_count": 281,
     "metadata": {},
     "output_type": "execute_result"
    }
   ],
   "source": [
    "trainData, validData = train_test_split(neighbor_df, test_size=0.4, random_state=1)\n",
    "print(trainData.shape, validData.shape)\n",
    "\n",
    "newHouse = pd.DataFrame([{'latitude': 46, 'longitude': -122.2}])\n",
    "newHouse"
   ]
  },
  {
   "cell_type": "code",
   "execution_count": 282,
   "metadata": {},
   "outputs": [
    {
     "data": {
      "image/png": "[encoded data removed]",
      "text/plain": [
       "<Figure size 432x288 with 1 Axes>"
      ]
     },
     "metadata": {
      "needs_background": "light"
     },
     "output_type": "display_data"
    }
   ],
   "source": [
    "fig, ax = plt.subplots()\n",
    "\n",
    "subset = trainData.loc[trainData['city']=='Seattle, WA, United States']\n",
    "ax.scatter(subset.latitude, subset.longitude, marker='D', label='Seattle', color='C1')\n",
    "\n",
    "subset = trainData.loc[trainData['city']=='Ballard, WA, United States']\n",
    "ax.scatter(subset.latitude, subset.longitude, marker='o', label='Ballard', color='C0')\n",
    "\n",
    "subset = trainData.loc[trainData['city']=='Bellevue, WA, United States']\n",
    "ax.scatter(subset.latitude, subset.longitude, marker='o', label='Bellevue', color='C2')\n",
    "\n",
    "subset = trainData.loc[trainData['city']=='Bothell, WA, United States']\n",
    "ax.scatter(subset.latitude, subset.longitude, marker='o', label='Bothell', color='C3')\n",
    "\n",
    "subset = trainData.loc[trainData['city']=='Capitol Hill, WA, United States']\n",
    "ax.scatter(subset.latitude, subset.longitude, marker='o', label='Capitlol Hill', color='C4')\n",
    "\n",
    "subset = trainData.loc[trainData['city']=='Clyde Hill, WA, United States']\n",
    "ax.scatter(subset.latitude, subset.longitude, marker='o', label='Clyde Hill', color='C5')\n",
    "\n",
    "subset = trainData.loc[trainData['city']=='Hunts Point, WA, United States']\n",
    "ax.scatter(subset.latitude, subset.longitude, marker='o', label='Hunts Point', color='C6')\n",
    "\n",
    "subset = trainData.loc[trainData['city']=='Kirkland, WA, United States']\n",
    "ax.scatter(subset.latitude, subset.longitude, marker='o', label='Kirkland', color='C7')\n",
    "\n",
    "subset = trainData.loc[trainData['city']=='Medina, WA, United States']\n",
    "ax.scatter(subset.latitude, subset.longitude, marker='o', label='Medina', color='C8')\n",
    "\n",
    "subset = trainData.loc[trainData['city']=='Mercer Island, WA, United States']\n",
    "ax.scatter(subset.latitude, subset.longitude, marker='o', label='Mercer Island', color='C9')\n",
    "\n",
    "subset = trainData.loc[trainData['city']=='Newcastle, WA, United States']\n",
    "ax.scatter(subset.latitude, subset.longitude, marker='o', label='Newcastle', color='C10')\n",
    "\n",
    "subset = trainData.loc[trainData['city']=='Redmond, WA, United States']\n",
    "ax.scatter(subset.latitude, subset.longitude, marker='o', label='Redmond', color='C11')\n",
    "\n",
    "subset = trainData.loc[trainData['city']=='Renton, WA, United States']\n",
    "ax.scatter(subset.latitude, subset.longitude, marker='o', label='Renton', color='C12')\n",
    "\n",
    "subset = trainData.loc[trainData['city']=='Tukwila, WA, United States']\n",
    "ax.scatter(subset.latitude, subset.longitude, marker='o', label='Tukwila', color='C13')\n",
    "\n",
    "subset = trainData.loc[trainData['city']=='Vashon, WA, United States']\n",
    "ax.scatter(subset.latitude, subset.longitude, marker='o', label='Vashon', color='C14')\n",
    "\n",
    "subset = trainData.loc[trainData['city']=='Washington, WA, United States']\n",
    "ax.scatter(subset.latitude, subset.longitude, marker='o', label='Washington', color='C15')\n",
    "\n",
    "subset = trainData.loc[trainData['city']=='West Seattle, WA, United States']\n",
    "ax.scatter(subset.latitude, subset.longitude, marker='o', label='West Seattle', color='C16')\n",
    "\n",
    "subset = trainData.loc[trainData['city']=='Yarrow Point, WA, United States']\n",
    "ax.scatter(subset.latitude, subset.longitude, marker='o', label='Yarrow Point', color='C17')\n",
    "\n",
    "ax.scatter(newHouse.latitude, newHouse.longitude, marker='*', label='New household', color='black', s=150)\n",
    "\n",
    "plt.xlabel('Latitude')  # set x-axis label\n",
    "plt.ylabel('Longitude')  # set y-axis label\n",
    "for _, row in trainData.iterrows():\n",
    "    ax.annotate(row.price, (row.latitude + 2, row.longitude))\n",
    "    \n",
    "handles, labels = ax.get_legend_handles_labels()\n",
    "ax.set_xlim(40, 70)\n",
    "ax.legend(handles, labels, loc=4)\n",
    "\n",
    "plt.show()"
   ]
  },
  {
   "cell_type": "code",
   "execution_count": 283,
   "metadata": {},
   "outputs": [
    {
     "data": {
      "text/html": [
       "<div>\n",
       "<style scoped>\n",
       "    .dataframe tbody tr th:only-of-type {\n",
       "        vertical-align: middle;\n",
       "    }\n",
       "\n",
       "    .dataframe tbody tr th {\n",
       "        vertical-align: top;\n",
       "    }\n",
       "\n",
       "    .dataframe thead th {\n",
       "        text-align: right;\n",
       "    }\n",
       "</style>\n",
       "<table border=\"1\" class=\"dataframe\">\n",
       "  <thead>\n",
       "    <tr style=\"text-align: right;\">\n",
       "      <th></th>\n",
       "      <th>Zlatitude</th>\n",
       "      <th>Zlongitude</th>\n",
       "      <th>city</th>\n",
       "      <th>price</th>\n",
       "    </tr>\n",
       "  </thead>\n",
       "  <tbody>\n",
       "    <tr>\n",
       "      <th>7049</th>\n",
       "      <td>1.318301</td>\n",
       "      <td>0.123631</td>\n",
       "      <td>Seattle, WA, United States</td>\n",
       "      <td>80</td>\n",
       "    </tr>\n",
       "    <tr>\n",
       "      <th>1037</th>\n",
       "      <td>-0.347657</td>\n",
       "      <td>0.102239</td>\n",
       "      <td>Seattle, WA, United States</td>\n",
       "      <td>250</td>\n",
       "    </tr>\n",
       "    <tr>\n",
       "      <th>471</th>\n",
       "      <td>0.743139</td>\n",
       "      <td>0.014618</td>\n",
       "      <td>Seattle, WA, United States</td>\n",
       "      <td>89</td>\n",
       "    </tr>\n",
       "    <tr>\n",
       "      <th>4053</th>\n",
       "      <td>-2.397865</td>\n",
       "      <td>2.495305</td>\n",
       "      <td>Renton, WA, United States</td>\n",
       "      <td>39</td>\n",
       "    </tr>\n",
       "    <tr>\n",
       "      <th>6479</th>\n",
       "      <td>1.372278</td>\n",
       "      <td>-0.718755</td>\n",
       "      <td>Seattle, WA, United States</td>\n",
       "      <td>45</td>\n",
       "    </tr>\n",
       "  </tbody>\n",
       "</table>\n",
       "</div>"
      ],
      "text/plain": [
       "      Zlatitude  Zlongitude                        city  price\n",
       "7049   1.318301    0.123631  Seattle, WA, United States     80\n",
       "1037  -0.347657    0.102239  Seattle, WA, United States    250\n",
       "471    0.743139    0.014618  Seattle, WA, United States     89\n",
       "4053  -2.397865    2.495305   Renton, WA, United States     39\n",
       "6479   1.372278   -0.718755  Seattle, WA, United States     45"
      ]
     },
     "execution_count": 283,
     "metadata": {},
     "output_type": "execute_result"
    }
   ],
   "source": [
    "scaler = preprocessing.StandardScaler()\n",
    "scaler.fit(trainData[['latitude', 'longitude']])  # Note the use of an array of column names\n",
    "\n",
    "# Transform the full dataset\n",
    "seattleNorm = pd.concat([pd.DataFrame(scaler.transform(neighbor_df[['latitude', 'longitude']]), \n",
    "                                    columns=['Zlatitude', 'Zlongitude']),\n",
    "                       neighbor_df[['city', 'price']]], axis=1)\n",
    "\n",
    "#Then repartition into train and test using row indexs\n",
    "trainNorm = seattleNorm.iloc[trainData.index]\n",
    "validNorm = seattleNorm.iloc[validData.index]\n",
    "\n",
    "#Transform newHouseHold record\n",
    "newHouseholdNorm = pd.DataFrame(scaler.transform(newHouse), columns=['Zlatitude', 'Zlongitude'])\n",
    "trainNorm.head()"
   ]
  },
  {
   "cell_type": "code",
   "execution_count": 284,
   "metadata": {},
   "outputs": [
    {
     "name": "stdout",
     "output_type": "stream",
     "text": [
      "     k  accuracy\n",
      "0    1  0.994665\n",
      "1    2  0.995332\n",
      "2    3  0.994998\n",
      "3    4  0.995665\n",
      "4    5  0.995999\n",
      "5    6  0.995665\n",
      "6    7  0.995665\n",
      "7    8  0.995665\n",
      "8    9  0.994998\n",
      "9   10  0.994998\n",
      "10  11  0.994665\n",
      "11  12  0.994331\n",
      "12  13  0.993998\n",
      "13  14  0.994331\n"
     ]
    }
   ],
   "source": [
    "train_X = trainNorm[['Zlatitude', 'Zlongitude']]\n",
    "train_y = trainNorm['city']\n",
    "valid_X = validNorm[['Zlatitude', 'Zlongitude']]\n",
    "valid_y = validNorm['city']\n",
    "\n",
    "# Train a classifier for different values of k (1-14)\n",
    "results = []\n",
    "for k in range(1, 15):\n",
    "    knn = KNeighborsClassifier(n_neighbors=k).fit(train_X, train_y)\n",
    "    results.append({\n",
    "        'k': k,\n",
    "        #test performance on validation set\n",
    "        'accuracy': accuracy_score(valid_y, knn.predict(valid_X))\n",
    "    })\n",
    "\n",
    "# Convert results to a pandas data frame\n",
    "results = pd.DataFrame(results)\n",
    "print(results)"
   ]
  },
  {
   "cell_type": "code",
   "execution_count": 286,
   "metadata": {},
   "outputs": [
    {
     "name": "stdout",
     "output_type": "stream",
     "text": [
      "['Seattle, WA, United States']\n",
      "Distances [[32.447944   32.4537368  32.45562003 32.45572955]]\n",
      "Indices [[6124 2619 2289 2337]]\n",
      "      Zlatitude  Zlongitude                        city  price\n",
      "6124  -2.504228    2.158448   Renton, WA, United States     60\n",
      "2619  -2.507261    2.747438   Renton, WA, United States     50\n",
      "2289  -2.505755    1.170381  Seattle, WA, United States    230\n",
      "2337  -2.504034    1.239002  Seattle, WA, United States    119\n"
     ]
    }
   ],
   "source": [
    "seattle_X = seattleNorm[['Zlatitude', 'Zlongitude']]\n",
    "seattle_y = seattleNorm['city']\n",
    "knn = KNeighborsClassifier(n_neighbors=4).fit(seattle_X, seattle_y)\n",
    "distances, indices = knn.kneighbors(newHouseholdNorm)\n",
    "#Predict ownership for newHouseholdNorm\n",
    "print(knn.predict(newHouse))\n",
    "print('Distances',distances)\n",
    "print('Indices', indices)\n",
    "print(seattleNorm.iloc[indices[0], :])"
   ]
  },
  {
   "cell_type": "code",
   "execution_count": 287,
   "metadata": {},
   "outputs": [
    {
     "name": "stderr",
     "output_type": "stream",
     "text": [
      "C:\\Users\\ggonz\\anaconda3\\lib\\site-packages\\sklearn\\metrics\\_ranking.py:811: UndefinedMetricWarning: No positive samples in y_true, true positive value should be meaningless\n",
      "  warnings.warn(\"No positive samples in y_true, \"\n"
     ]
    },
    {
     "data": {
      "image/png": "[encoded data removed]",
      "text/plain": [
       "<Figure size 432x288 with 1 Axes>"
      ]
     },
     "metadata": {
      "needs_background": "light"
     },
     "output_type": "display_data"
    }
   ],
   "source": [
    "from sklearn.metrics import roc_curve, auc\n",
    "\n",
    "#Train on training set\n",
    "knn = KNeighborsClassifier(n_neighbors=4).fit(train_X, train_y)\n",
    "\n",
    "#valid_y is in the form (Owner, Nonowner). We have to convert it to (1, 0)\n",
    "valid_y_binary = valid_y.apply(lambda x: 1 if x=='Owner' else 0)\n",
    "\n",
    "#get probability of belonging to each class\n",
    "y_scores = knn.predict_proba(valid_X)\n",
    "#get false positive rate and true positive rate values \n",
    "fpr, tpr, threshold = roc_curve(valid_y_binary, y_scores[:, 1])\n",
    "\n",
    "roc_auc = auc(fpr, tpr) # area under the curve\n",
    "plt.figure()\n",
    "lw = 2\n",
    "plt.plot(fpr, tpr, color='darkorange',\n",
    "         lw=lw, label='ROC curve (area = %0.2f)' % roc_auc)\n",
    "plt.plot([0, 1], [0, 1], color='navy', lw=lw, linestyle='--') #naive rule\n",
    "plt.xlim([0.0, 1.0])\n",
    "plt.ylim([0.0, 1.05])\n",
    "plt.xlabel('False Positive Rate')\n",
    "plt.ylabel('True Positive Rate')\n",
    "plt.title('Receiver operating characteristic (ROC) curve')\n",
    "plt.legend(loc=\"lower right\")\n",
    "plt.show()"
   ]
  },
  {
   "cell_type": "markdown",
   "metadata": {},
   "source": []
  }
 ],
 "metadata": {
  "kernelspec": {
   "display_name": "Python 3",
   "language": "python",
   "name": "python3"
  },
  "language_info": {
   "codemirror_mode": {
    "name": "ipython",
    "version": 3
   },
   "file_extension": ".py",
   "mimetype": "text/x-python",
   "name": "python",
   "nbconvert_exporter": "python",
   "pygments_lexer": "ipython3",
   "version": "3.8.3"
  }
 },
 "nbformat": 4,
 "nbformat_minor": 4
}
